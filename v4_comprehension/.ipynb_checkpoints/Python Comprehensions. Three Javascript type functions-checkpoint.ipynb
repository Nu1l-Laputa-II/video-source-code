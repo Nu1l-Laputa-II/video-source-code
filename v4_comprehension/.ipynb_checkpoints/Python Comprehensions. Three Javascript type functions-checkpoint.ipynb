{
 "cells": [
  {
   "cell_type": "markdown",
   "metadata": {},
   "source": [
    "# 摘要\n",
    "**“推导式”语法例子 （Comprehensions）**\n",
    "- “列表推导式” （List Comprehension）\n",
    "- “字典/集推导式” （Dictionary/Set Comprehension）\n",
    "- “生成器推导式” （Generator Comprehension）\n",
    "\n",
    "回忆：四种基本数据结构：列表（list），元组（tuple），集合（set），字典（dictionary）\n",
    "\n",
    "作用：替代JavaScript中很常见的map跟filter函数。\n",
    "\n",
    "**函数式编程（Functional Programming）在Python中的应用，与“推导式”的对比**\n",
    "- Map function\n",
    "- Filter function\n",
    "- Reduce function"
   ]
  },
  {
   "cell_type": "markdown",
   "metadata": {},
   "source": [
    "### 例1. 构建新列表（lists）\n",
    "Construct new list using old one (item by item)\n",
    "已知一个list：``` lst_num = [0,1,2,...,9]```，把每个数字转换为相应字符，存到一个新的数组里面。\n",
    "\n",
    "（e.g., 1转换为‘1’）"
   ]
  },
  {
   "cell_type": "code",
   "execution_count": 1,
   "metadata": {},
   "outputs": [
    {
     "name": "stdout",
     "output_type": "stream",
     "text": [
      "[0, 1, 2, 3, 4, 5, 6, 7, 8, 9]\n"
     ]
    }
   ],
   "source": [
    "# create list\n",
    "lst_num = list(range(10))\n",
    "print(lst_num)"
   ]
  },
  {
   "cell_type": "markdown",
   "metadata": {},
   "source": [
    "解法1: Use for loop"
   ]
  },
  {
   "cell_type": "code",
   "execution_count": 2,
   "metadata": {},
   "outputs": [
    {
     "name": "stdout",
     "output_type": "stream",
     "text": [
      "['0', '1', '2', '3', '4', '5', '6', '7', '8', '9']\n"
     ]
    }
   ],
   "source": [
    "lst_str = []\n",
    "# iterate every item in the list\n",
    "for i in lst_num:\n",
    "    lst_str.append(str(i))\n",
    "print(lst_str)"
   ]
  },
  {
   "cell_type": "markdown",
   "metadata": {},
   "source": [
    "解法2: List Comprehension"
   ]
  },
  {
   "cell_type": "code",
   "execution_count": 3,
   "metadata": {},
   "outputs": [
    {
     "name": "stdout",
     "output_type": "stream",
     "text": [
      "['0', '1', '2', '3', '4', '5', '6', '7', '8', '9']\n"
     ]
    }
   ],
   "source": [
    "# list comprehension\n",
    "lst_str = [ str(i) for i in lst_num ]\n",
    "print(lst_str)"
   ]
  },
  {
   "cell_type": "markdown",
   "metadata": {},
   "source": [
    "### 例2. \n",
    "提取0-9中的**奇数**，结果存到新的list中。"
   ]
  },
  {
   "cell_type": "code",
   "execution_count": 4,
   "metadata": {},
   "outputs": [
    {
     "name": "stdout",
     "output_type": "stream",
     "text": [
      "[1, 3, 5, 7, 9]\n"
     ]
    }
   ],
   "source": [
    "# only print odd number sub-list.\n",
    "# for each item, times 10; print the sublist\n",
    "lst_odd = []\n",
    "for item in lst_num:\n",
    "    if item % 2 == 1:\n",
    "        lst_odd.append(item)\n",
    "print(lst_odd)"
   ]
  },
  {
   "cell_type": "code",
   "execution_count": 5,
   "metadata": {},
   "outputs": [
    {
     "name": "stdout",
     "output_type": "stream",
     "text": [
      "[1, 3, 5, 7, 9]\n"
     ]
    }
   ],
   "source": [
    "lst_odd = [ i for i in lst_num if i % 2 == 1 ]\n",
    "print(lst_odd)"
   ]
  },
  {
   "cell_type": "markdown",
   "metadata": {},
   "source": [
    "### 例3\n",
    "现在有三个语言在列表中：```['Python', 'Java', 'JavaScript']``` \n",
    "\n",
    "数字代表版本，现在有奇数版本 ```[1, 2, 3]```\n",
    "\n",
    "列出所有组合。(e.g., \"Python_v1\")"
   ]
  },
  {
   "cell_type": "code",
   "execution_count": 6,
   "metadata": {},
   "outputs": [],
   "source": [
    "languages = ['Python', 'Java', 'JavaScript']\n",
    "versions = [1, 2, 3]"
   ]
  },
  {
   "cell_type": "code",
   "execution_count": 7,
   "metadata": {},
   "outputs": [
    {
     "name": "stdout",
     "output_type": "stream",
     "text": [
      "['Python_v1', 'Python_v2', 'Python_v3', 'Java_v1', 'Java_v2', 'Java_v3', 'JavaScript_v1', 'JavaScript_v2', 'JavaScript_v3']\n"
     ]
    }
   ],
   "source": [
    "releases = []\n",
    "for lang in languages:\n",
    "    for v in versions:\n",
    "        releases.append(lang+'_v'+str(v))\n",
    "print(releases)"
   ]
  },
  {
   "cell_type": "code",
   "execution_count": 8,
   "metadata": {},
   "outputs": [
    {
     "name": "stdout",
     "output_type": "stream",
     "text": [
      "['Python_v1', 'Python_v2', 'Python_v3', 'Java_v1', 'Java_v2', 'Java_v3', 'JavaScript_v1', 'JavaScript_v2', 'JavaScript_v3']\n"
     ]
    }
   ],
   "source": [
    "# use list comprehension\n",
    "releases = [ '{}_v{}'.format(l, v) for l in languages for v in versions ]\n",
    "print(releases)"
   ]
  },
  {
   "cell_type": "markdown",
   "metadata": {},
   "source": [
    "### 例4 字典取逆\n",
    "已知一个字典（dictionary），所有key与value**一一对应**\n",
    "\n",
    "求：新的dictionary，原key变为value，原value变为key\n",
    "\n",
    "（e.g, 已知 ```dict = {0:a, 1:b, 2:c}```，求 ``` dict_reversed = {a:0, b:1, c:2} ```）"
   ]
  },
  {
   "cell_type": "code",
   "execution_count": 9,
   "metadata": {},
   "outputs": [],
   "source": [
    "char_dict = {0:'a', 1:'b', 2:'c'}\n",
    "char_dict_reversed = {}"
   ]
  },
  {
   "cell_type": "code",
   "execution_count": 10,
   "metadata": {},
   "outputs": [
    {
     "name": "stdout",
     "output_type": "stream",
     "text": [
      "{'a': 0, 'b': 1, 'c': 2}\n"
     ]
    }
   ],
   "source": [
    "char_dict_reversed = {}\n",
    "# iterate dictionary\n",
    "for key in char_dict:\n",
    "    value = char_dict[key]\n",
    "    char_dict_reversed[value] = key\n",
    "print(char_dict_reversed)"
   ]
  },
  {
   "cell_type": "code",
   "execution_count": 11,
   "metadata": {},
   "outputs": [
    {
     "name": "stdout",
     "output_type": "stream",
     "text": [
      "{'a': 0, 'b': 1, 'c': 2}\n"
     ]
    }
   ],
   "source": [
    "char_dict_reversed = {}\n",
    "for key, value in char_dict.items():\n",
    "    char_dict_reversed[value] = key\n",
    "print(char_dict_reversed)"
   ]
  },
  {
   "cell_type": "code",
   "execution_count": 12,
   "metadata": {
    "scrolled": true
   },
   "outputs": [
    {
     "name": "stdout",
     "output_type": "stream",
     "text": [
      "{'a': 0, 'b': 1, 'c': 2}\n"
     ]
    }
   ],
   "source": [
    "# use dict comprehension\n",
    "char_dict_reversed = { val:key for key, val in char_dict.items()}\n",
    "print(char_dict_reversed)"
   ]
  },
  {
   "cell_type": "markdown",
   "metadata": {},
   "source": [
    "## 例4.2 求集运算\n",
    "把上边字典中的所有字符存在一个集（set）中"
   ]
  },
  {
   "cell_type": "code",
   "execution_count": 13,
   "metadata": {},
   "outputs": [],
   "source": [
    "char_dict = {0:'a', 1:'b', 2:'c', 3:'c', 4:'b'}"
   ]
  },
  {
   "cell_type": "code",
   "execution_count": 14,
   "metadata": {},
   "outputs": [
    {
     "name": "stdout",
     "output_type": "stream",
     "text": [
      "{'b', 'c', 'a'}\n"
     ]
    }
   ],
   "source": [
    "char_set = set()\n",
    "for key, value in char_dict.items():\n",
    "    char_set.add(value)\n",
    "print(char_set)"
   ]
  },
  {
   "cell_type": "code",
   "execution_count": 15,
   "metadata": {
    "scrolled": true
   },
   "outputs": [
    {
     "name": "stdout",
     "output_type": "stream",
     "text": [
      "{'b', 'c', 'a'}\n"
     ]
    }
   ],
   "source": [
    "# use comprehensions\n",
    "char_set = { char for key, char in char_dict.items()}\n",
    "print(char_set)"
   ]
  },
  {
   "cell_type": "markdown",
   "metadata": {},
   "source": [
    "### **\"生成器推导式\"（\"generator comprehensions\"）**\n",
    "\n",
    "没有元组（tuple）对应的comprehension，因为immutable（初始化之后无法变换）\n",
    "\n",
    "但是，可以用comprehension生成generator。"
   ]
  },
  {
   "cell_type": "code",
   "execution_count": null,
   "metadata": {},
   "outputs": [],
   "source": [
    "# generators are more efficient, only compute when calling next() function, saves memory\n",
    "# example: comparing efficiency between generators and lists\n",
    "import time\n",
    "\n",
    "t0 = time.time()\n",
    "for i in range(int(1e7)):\n",
    "    pass\n",
    "print('It takes {} seconds to loop generators!'.format(time.time()-t0))\n",
    "\n",
    "\n",
    "t0 = time.time()\n",
    "for i in list(range(int(1e7))):\n",
    "    pass\n",
    "print('It takes {} seconds to loop list!'.format(time.time()-t0))\n",
    "\n",
    "\n",
    "t0 = time.time()\n",
    "big_lst = list(range(int(1e7)))\n",
    "for i in big_lst:\n",
    "    pass\n",
    "print('It takes {} seconds to loop created list!'.format(time.time()-t0))\n"
   ]
  },
  {
   "cell_type": "markdown",
   "metadata": {},
   "source": [
    "### 例5. \"生成器推导式\"\n",
    "查看前面所有的软件版本，但是要求变成生成器，但是依次返回元组（tuple）**模拟online streaming**"
   ]
  },
  {
   "cell_type": "code",
   "execution_count": null,
   "metadata": {},
   "outputs": [],
   "source": [
    "print(releases)"
   ]
  },
  {
   "cell_type": "code",
   "execution_count": null,
   "metadata": {},
   "outputs": [],
   "source": [
    "# no generator for tuples but has syntax for generators\n",
    "release_gen = ( r for r in releases )\n",
    "print(type(release_gen))\n",
    "for i in release_gen:\n",
    "    time.sleep(0.2)\n",
    "    print(i)"
   ]
  },
  {
   "cell_type": "code",
   "execution_count": null,
   "metadata": {},
   "outputs": [],
   "source": [
    "# next(reversed_char_gen)"
   ]
  },
  {
   "cell_type": "code",
   "execution_count": null,
   "metadata": {},
   "outputs": [],
   "source": [
    "# use for loop (should contained in a fuction)\n",
    "def dict_reverse_gen(my_dict):\n",
    "    for key, value in my_dict.items():\n",
    "        yield {value:key}\n",
    "\n",
    "my_reserse_gen = dict_reverse_gen(char_dict)\n",
    "\n",
    "for i in my_reserse_gen:\n",
    "    time.sleep(0.2)\n",
    "    print(i)"
   ]
  },
  {
   "cell_type": "markdown",
   "metadata": {},
   "source": [
    "#### 生成器总结\n",
    "好处：\n",
    "1. 省内存，不用一下把所有的计算结果存在内存中，但是很长时间不用。\n",
    "2. 提供一种分步操控函数的方法\n",
    "3. 一种流（stream）的概念\n",
    "4. 其他包package经常返回generator结果"
   ]
  },
  {
   "cell_type": "markdown",
   "metadata": {},
   "source": [
    "## 函数式编程\n",
    "\n",
    "Python从Javascript借鉴了三个function：```map(), filter(), reduce()```\n",
    "- comprehension更方便，可以代替这三个function\n",
    "- reduce在Python 3中要调用，并且很少有使用场景\n",
    "- 其他的包处理对象（object）更愿意提供map/filter这样的方法处理列表（list）"
   ]
  },
  {
   "cell_type": "markdown",
   "metadata": {},
   "source": [
    "### 例7. Map()\n",
    "语法：**map(function, iterable(s))**\n",
    "\n",
    "function: 对每一项内容操作的函数；每一项必须要求返回一项\n",
    "iterables: “可循环对象”（在for loop里可循环的对象），例子：list，dictionary，string，etc.\n",
    "\n",
    "map()的特点：输入与输出的项数（长度）相同"
   ]
  },
  {
   "cell_type": "code",
   "execution_count": null,
   "metadata": {},
   "outputs": [],
   "source": [
    "# bonus point!\n",
    "# vs. Javascript style functions (functional programming)\n",
    "# map, filter, reduce\n",
    "def square_func(i):\n",
    "    return i*i\n",
    "\n",
    "# map syntax: map(function, iterable(s))\n",
    "squared_lst = map(square_func, [1,2,3])\n",
    "print(type(squared_lst))\n",
    "print(list(squared_lst))\n",
    "squared_lst = map(square_func, range(1,4))\n",
    "print(list(squared_lst))\n",
    "\n",
    "# recall the usage of list comprehension\n",
    "squared_lst = [ i*i for i in range(1,4)]\n",
    "print(squared_lst)"
   ]
  },
  {
   "cell_type": "code",
   "execution_count": null,
   "metadata": {},
   "outputs": [],
   "source": [
    "char_dict = {1:'a', 2:'b', 3:'c'}\n",
    "char_dict_reversed = {'a':1, 'b':2, 'c':3} # no way to access value in dict\n",
    "def square_func_dictVals(k):\n",
    "    return k*k\n",
    "sqaured_lst = map(square_func_dictVals, char_dict)\n",
    "print(list(sqaured_lst))\n",
    "# sadly, map is not flexible enough to deal with dictionary\n",
    "# (we cannot even compute dict values)\n",
    "\n",
    "# The syntax is useful. It provides opportunities for package developers\n",
    "# to borrow the map syntax. For example, map tasks to multiple cpu\n",
    "# cores for multiprocessing as shown below"
   ]
  },
  {
   "cell_type": "markdown",
   "metadata": {},
   "source": [
    "map()的语法经常被其他包类比使用，要记住！例如：executor.map()\n",
    "把大的DataFrame分成几部分，定义对每一块执行的任务（function），每一块分到一个cpu中进行平行计算\n",
    "```Python\n",
    "import numpy as np\n",
    "import pandas as pd\n",
    "from multiprocessing import cpu_count\n",
    "import concurrent.futures\n",
    "\n",
    "def apply_parallel_df(df, func):\n",
    "    df_lst = np.array_split(df, cpu_count())\n",
    "    with concurrent.futures.ProcessPoolExecutor(max_workers=cpu_count()) as executor:\n",
    "        ret_list = executor.map( func, df_lst )\n",
    "    return pd.concat(ret_list)\n",
    "\n",
    "```"
   ]
  },
  {
   "cell_type": "markdown",
   "metadata": {},
   "source": [
    "### 例8. filter()\n",
    "语法：**filter(function, iterable(s))**\n",
    "\n",
    "参数（arguments）含义与map()相同。\n",
    "\n",
    "filter()的特点：每个输入项，根据判断条件，返回True/False，进而筛选出感兴趣的项数。"
   ]
  },
  {
   "cell_type": "code",
   "execution_count": null,
   "metadata": {},
   "outputs": [],
   "source": [
    "# filter function\n",
    "# let us use the filter function to get odds number (except 8)\n",
    "lst_num = list(range(10))\n",
    "# recall the task of find odd number sub-list\n",
    "def get_odds(i):\n",
    "    if i % 2 == 1:\n",
    "        return True\n",
    "    if i == 8:\n",
    "        return True\n",
    "    else:\n",
    "        return False\n",
    "\n",
    "lst_odd = list(filter(get_odds, lst_num))\n",
    "print(lst_odd)"
   ]
  },
  {
   "cell_type": "markdown",
   "metadata": {},
   "source": [
    "### 实践总结\n",
    "credit to：《*Effective Python*》by Brett Slatkin\n",
    "\n",
    "#### - Use list comprehension instead of map()\n",
    "\n",
    "<img src=\"pics/remember1.png\" width=\"400\">\n",
    "\n",
    "#### - Avoid more than two list comprehensions\n",
    "\n",
    "<img src=\"pics/remember2.png\" width=\"400\">\n",
    "\n",
    "Bad examples:\n",
    "\n",
    "Bad practice 1. (two loops plus condition)\n",
    "<img src=\"pics/bad_example1.png\" width=\"400\">\n",
    "\n",
    "Bad practice 2. (three loops)\n",
    "<img src=\"pics/bad_example1.png\" width=\"400\">\n"
   ]
  },
  {
   "cell_type": "markdown",
   "metadata": {},
   "source": [
    "Congrats! You are now a master of Python comprehensions!"
   ]
  },
  {
   "cell_type": "code",
   "execution_count": null,
   "metadata": {},
   "outputs": [],
   "source": []
  },
  {
   "cell_type": "markdown",
   "metadata": {},
   "source": [
    "### 例9. reduce()\n",
    "语法：**reduce(function, sequence\\[, initial\\])**\n",
    "\n",
    "参数（arguments）前两项含义与map()相同。\n",
    "<br>\n",
    "<br>\n",
    "\n",
    "**解释：**```reduce(sum, range(1,7))```的过程：\n",
    "\n",
    "```[1,2,3,4,5,6]``` ==>```[sum(1,2),3,4,5,6]```==> ```[3,3,4,5,6]```\n",
    "\n",
    "```[3,3,4,5,6]``` ==>```[sum(3,3),4,5,6]```==> ```[6,4,5,6]```\n",
    "\n",
    "```[6,4,5,6]```==>```[sum(6,4),5,6]```==> ```[10,5,6]```\n",
    "\n",
    "...\n",
    "\n",
    "**返回：**```21```(a number, not a list anymore)\n",
    "<br>\n",
    "<br>\n",
    "<br>\n",
    "\n",
    "**解释：**```reduce(sum, range(1,7), 666)```的过程：\n",
    "\n",
    "```[1,2,3,4,5,6]``` ==>(append 666 at front) ```[666,1,2,3,4,5,6]```\n",
    "\n",
    "Then execute ```reduce(sum, [666,1,2,3,4,5,6])```\n",
    "\n",
    "**返回：**```687```(a number, not a list anymore)\n",
    "<br>\n",
    "<br>\n",
    "<br>\n",
    "\n",
    "reduce()的特点：\n",
    "- 递推，最后只返回一项\n",
    "- Javascript会常用，Python不常用，了解即可\n",
    "- Python 3中要调用才能使用（因为not Pythonic，没什么用）\n"
   ]
  },
  {
   "cell_type": "code",
   "execution_count": null,
   "metadata": {},
   "outputs": [],
   "source": [
    "# reduce\n",
    "# syntax: reduce(function, sequence[, initial])\n",
    "# reduce not a build-in in Python 3, needs to import it!\n",
    "from functools import reduce\n",
    "\n",
    "lst_num = list(range(1,7))\n",
    "def reduce_sum(a, b):\n",
    "    return a+b\n",
    "odd_sum = reduce(reduce_sum, lst_num)\n",
    "print(odd_sum)\n",
    "odd_sum_pad = reduce(reduce_sum, lst_num, 666)\n",
    "print(odd_sum_pad)"
   ]
  },
  {
   "cell_type": "code",
   "execution_count": null,
   "metadata": {},
   "outputs": [],
   "source": []
  },
  {
   "cell_type": "code",
   "execution_count": null,
   "metadata": {},
   "outputs": [],
   "source": []
  },
  {
   "cell_type": "code",
   "execution_count": null,
   "metadata": {},
   "outputs": [],
   "source": []
  },
  {
   "cell_type": "code",
   "execution_count": null,
   "metadata": {},
   "outputs": [],
   "source": []
  }
 ],
 "metadata": {
  "kernelspec": {
   "display_name": "Python 3",
   "language": "python",
   "name": "python3"
  },
  "language_info": {
   "codemirror_mode": {
    "name": "ipython",
    "version": 3
   },
   "file_extension": ".py",
   "mimetype": "text/x-python",
   "name": "python",
   "nbconvert_exporter": "python",
   "pygments_lexer": "ipython3",
   "version": "3.7.4"
  }
 },
 "nbformat": 4,
 "nbformat_minor": 4
}
