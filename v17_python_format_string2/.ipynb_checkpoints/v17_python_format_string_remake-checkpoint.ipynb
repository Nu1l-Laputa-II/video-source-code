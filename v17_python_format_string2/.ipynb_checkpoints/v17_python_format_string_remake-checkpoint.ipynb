{
 "cells": [
  {
   "cell_type": "markdown",
   "id": "169f37e3-cc76-4890-8e48-86eba02ecbfc",
   "metadata": {
    "tags": []
   },
   "source": [
    "# Format String （Remake重新讲解版）\n",
    "1. 使用Format String非常方便(可读性好)\n",
    "2. 方便调整格式"
   ]
  },
  {
   "cell_type": "code",
   "execution_count": 1,
   "id": "a86cff7a-b564-4ed5-99ba-ec84e01232f8",
   "metadata": {},
   "outputs": [
    {
     "name": "stdout",
     "output_type": "stream",
     "text": [
      "{'姓名': 'geekDuck', '绩点': 3.0, '分数': 82.887}\n",
      "['geekDuck', 3.0, 82.887]\n"
     ]
    }
   ],
   "source": [
    "person1 = {\"姓名\":\"geekDuck\", \"绩点\":3.0, \"分数\":82.887}\n",
    "person1_lst = [\"geekDuck\", 3.0, 82.887]\n",
    "print(person1)\n",
    "print(person1_lst)"
   ]
  },
  {
   "cell_type": "code",
   "execution_count": 2,
   "id": "50d5d66a-d517-4a34-9780-a5d16bcf1836",
   "metadata": {},
   "outputs": [
    {
     "name": "stdout",
     "output_type": "stream",
     "text": [
      "姓名: geekDuck; 绩点: 3.0; 分数: 82.887\n"
     ]
    }
   ],
   "source": [
    "# 使用加号: 不好的写法\n",
    "# 1. 可读性差\n",
    "# 2. 需要单独转换成string格式\n",
    "p1_str = \"姓名: \" + person1[\"姓名\"] + \"; 绩点: \" + str(person1[\"绩点\"]) + \"; 分数: \" + str(person1['分数'])\n",
    "print(p1_str)"
   ]
  },
  {
   "cell_type": "code",
   "execution_count": 3,
   "id": "f5f9e8e1-15d6-49bb-8924-27ee209d641a",
   "metadata": {},
   "outputs": [
    {
     "name": "stdout",
     "output_type": "stream",
     "text": [
      "姓名: geekDuck; 绩点: 3.0; 分数: 82.887\n"
     ]
    }
   ],
   "source": [
    "p1_str = \"姓名: {}; 绩点: {}; 分数: {}\".format(person1_lst[0], person1_lst[1], person1_lst[2])\n",
    "print(p1_str)"
   ]
  },
  {
   "cell_type": "code",
   "execution_count": 4,
   "id": "0189ecb6-fae1-46d3-bff7-a6a0f674d317",
   "metadata": {},
   "outputs": [
    {
     "name": "stdout",
     "output_type": "stream",
     "text": [
      "姓名: geekDuck; 绩点: 3.0; 分数: 82.887\n"
     ]
    }
   ],
   "source": [
    "p1_str = \"姓名: {0}; 绩点: {1}; 分数: {2}\".format(person1_lst[0], person1_lst[1], person1_lst[2])\n",
    "print(p1_str)"
   ]
  },
  {
   "cell_type": "code",
   "execution_count": 5,
   "id": "dace7902-85d6-4723-a399-d0296d7e0837",
   "metadata": {},
   "outputs": [
    {
     "name": "stdout",
     "output_type": "stream",
     "text": [
      "绩点: 3.0; 分数: 82.887; 姓名: geekDuck; \n"
     ]
    }
   ],
   "source": [
    "p1_str = \"绩点: {1}; 分数: {2}; 姓名: {0}; \".format(person1_lst[0], person1_lst[1], person1_lst[2])\n",
    "print(p1_str)"
   ]
  },
  {
   "cell_type": "code",
   "execution_count": 6,
   "id": "79962bdb-a8af-494b-8194-be2077da9a26",
   "metadata": {},
   "outputs": [
    {
     "name": "stdout",
     "output_type": "stream",
     "text": [
      "姓名: geekDuck; 绩点: 3.0; 分数: 82.887\n"
     ]
    }
   ],
   "source": [
    "p1_str = \"姓名: {}; 绩点: {}; 分数: {}\".format(*person1_lst)\n",
    "print(p1_str)"
   ]
  },
  {
   "cell_type": "code",
   "execution_count": 7,
   "id": "8c6435d2-d848-4e8b-adbb-f6f67d612e0f",
   "metadata": {},
   "outputs": [
    {
     "name": "stdout",
     "output_type": "stream",
     "text": [
      "姓名: geekDuck; 绩点: 3.0; 分数: 82.887\n"
     ]
    }
   ],
   "source": [
    "# person1 = {\"姓名\":\"geekDuck\", \"绩点\":3.0, \"分数\":82.887}\n",
    "p1_str = \"姓名: {姓名}; 绩点: {绩点}; 分数: {分数}\".format(**person1)\n",
    "print(p1_str)"
   ]
  },
  {
   "cell_type": "markdown",
   "id": "7cdb35f4-4d25-42cd-9584-e1ba253616e7",
   "metadata": {
    "tags": []
   },
   "source": [
    "### Format String 设置格式\n"
   ]
  },
  {
   "cell_type": "code",
   "execution_count": 8,
   "id": "67472a98-602e-4153-bd5c-c8784493cb68",
   "metadata": {},
   "outputs": [
    {
     "name": "stdout",
     "output_type": "stream",
     "text": [
      "3.141592653589793\n",
      "3.14159265358979311599796346854418516159057617187500\n",
      "100.00000000000000000000\n"
     ]
    }
   ],
   "source": [
    "import math\n",
    "# 打印pi值\n",
    "print(math.pi)\n",
    "# 保留pi的50位小数\n",
    "print(\"{:.50f}\".format(math.pi))\n",
    "print(\"{:.20f}\".format(100))"
   ]
  },
  {
   "cell_type": "code",
   "execution_count": 9,
   "id": "988d3ef6-3c12-4817-a4fc-f192bde7c9c7",
   "metadata": {},
   "outputs": [
    {
     "name": "stdout",
     "output_type": "stream",
     "text": [
      "    3.14\n",
      "3.14    \n",
      "    3.14\n",
      "  3.14  \n"
     ]
    }
   ],
   "source": [
    "# 保留pi的四位小数，打印数字长度为8(不够的话补充空格)\n",
    "print(\"{:8.2f}\".format(math.pi))  # 默认右边对其\n",
    "# 左对齐\n",
    "print(\"{:<8.2f}\".format(math.pi))\n",
    "# 右对其\n",
    "print(\"{:>8.2f}\".format(math.pi))\n",
    "# 中间对其\n",
    "print(\"{:^8.2f}\".format(math.pi))"
   ]
  },
  {
   "cell_type": "code",
   "execution_count": 10,
   "id": "5f4c1f78-2172-4308-8004-20ffab727149",
   "metadata": {},
   "outputs": [
    {
     "name": "stdout",
     "output_type": "stream",
     "text": [
      "   12345\n",
      "  +12345\n",
      "   12345\n",
      "  12,345\n",
      "  12_345\n"
     ]
    }
   ],
   "source": [
    "# 符号\n",
    "income = 12345\n",
    "print(\"{:8d}\".format(income))\n",
    "print(\"{:+8d}\".format(income))\n",
    "print(\"{:-8d}\".format(income))\n",
    "print(\"{:8,d}\".format(income))\n",
    "print(\"{:8_d}\".format(income))"
   ]
  },
  {
   "cell_type": "markdown",
   "id": "d060aab6-036d-4ff2-9599-3df54cbe6e2e",
   "metadata": {},
   "source": [
    "## 下面在格式中可以使用一个字母确定输入类型的格式"
   ]
  },
  {
   "cell_type": "code",
   "execution_count": 11,
   "id": "b374bf29-d2ba-4e11-97f4-bf1c9f3fca6f",
   "metadata": {},
   "outputs": [
    {
     "name": "stdout",
     "output_type": "stream",
     "text": [
      "数字的不同格式\t(以整数11为例子)\n",
      "十进制(整数)：\t11\n",
      "八进制：\t\t13\n",
      "十六进制(大写)：\tb\n",
      "十六进制(小写)：\tB\n",
      "百分数：\t\t1100.000000%\n",
      "科学计数法(大写)：\t1.234500e+04\n",
      "科学计数法(小写)：\t1.234500E+04\n"
     ]
    }
   ],
   "source": [
    "print(\"数字的不同格式\\t(以整数11为例子)\")\n",
    "# 十进制\n",
    "print(\"十进制(整数)：\\t{:d}\".format(11))\n",
    "# 八进制\n",
    "print(\"八进制：\\t\\t{:o}\".format(11))\n",
    "# 十六进制\n",
    "print(\"十六进制(大写)：\\t{:x}\".format(11))\n",
    "print(\"十六进制(小写)：\\t{:X}\".format(11))\n",
    "# 百分数\n",
    "print(\"百分数：\\t\\t{:%}\".format(11))\n",
    "\n",
    "# 科学计数法\n",
    "print(\"科学计数法(大写)：\\t{:e}\".format(income))\n",
    "print(\"科学计数法(小写)：\\t{:E}\".format(income))"
   ]
  },
  {
   "cell_type": "markdown",
   "id": "ef65171e-f2d8-4f84-8c75-750a266449fc",
   "metadata": {},
   "source": [
    "## 日期格式\n"
   ]
  },
  {
   "cell_type": "code",
   "execution_count": 12,
   "id": "9d59d6d4-a5ed-4d4d-8f67-753d602e27da",
   "metadata": {},
   "outputs": [
    {
     "name": "stdout",
     "output_type": "stream",
     "text": [
      "2020-01-30 17:08:09\n",
      "2020/01/30\n",
      "2020/01/30\n",
      "20/Jan/30\n",
      "本年度的第04周，今天是Thu(Thursday);\n",
      "17:08:09\n",
      "05:08:09, PM\n",
      "当地时间：Thu Jan 30 17:08:09 2020\n"
     ]
    }
   ],
   "source": [
    "import datetime\n",
    "# datetime对象 (时间：2021年1月30日17时59分)\n",
    "my_dt = datetime.datetime(2020, 1, 30, 17, 8, 9)\n",
    "\n",
    "# 编码等同于c语言中的标准(1989 C standard: )\n",
    "print(my_dt)\n",
    "print(my_dt.strftime(\"%Y/%m/%d\"))  # strftime: convert string from time\n",
    "# use format string\n",
    "print(\"{:%Y/%m/%d}\".format(my_dt))\n",
    "print(\"{:%y/%b/%d}\".format(my_dt))\n",
    "print(\"本年度的第{0:%U}周，今天是{0:%a(%A)};\".format(my_dt))\n",
    "print(\"{:%H:%M:%S}\".format(my_dt))\n",
    "print(\"{:%I:%M:%S, %p}\".format(my_dt))\n",
    "\n",
    "print(\"当地时间：{:%c}\".format(my_dt))  # local time representation"
   ]
  },
  {
   "cell_type": "markdown",
   "id": "d3b9a636-4768-4c7a-9cfb-9c47a9bfd038",
   "metadata": {},
   "source": [
    "## F-String (Python $\\geq$ 3.6)\n",
    "\n",
    "1. 对于简单的替换，使用F-string很方便\n",
    "2. 对于复杂的替换，个人偏向于使用format string。替换性更好，且对早期Python兼容性好"
   ]
  },
  {
   "cell_type": "code",
   "execution_count": 13,
   "id": "b67aad24-f753-46aa-b025-abedfc5494f7",
   "metadata": {},
   "outputs": [
    {
     "name": "stdout",
     "output_type": "stream",
     "text": [
      "姓名: geekDuck; 绩点: 3.0; 分数: 82.887\n",
      "姓名: geekDuck; 绩点: 3.0; 身高: 82.887\n"
     ]
    }
   ],
   "source": [
    "# 旧的格式 Format String\n",
    "p1_str = \"姓名: {}; 绩点: {}; 分数: {}\".format(*person1_lst)\n",
    "print(p1_str)\n",
    "# 新的格式 F-String\n",
    "p1_str = f\"姓名: {person1_lst[0]}; 绩点: {person1_lst[1]}; 身高: {person1_lst[2]}\"\n",
    "print(p1_str)"
   ]
  },
  {
   "cell_type": "code",
   "execution_count": 14,
   "id": "1453e7dc-28c9-4866-980e-c06c4a2de159",
   "metadata": {},
   "outputs": [
    {
     "name": "stdout",
     "output_type": "stream",
     "text": [
      "姓名: geekDuck; 绩点: 3.0; 分数: 82.887\n",
      "姓名: geekDuck; 绩点: 3.0; 分数: 82.887\n"
     ]
    }
   ],
   "source": [
    "# 旧的格式 Format String\n",
    "p1_str = \"姓名: {姓名}; 绩点: {绩点}; 分数: {分数}\".format(**person1)\n",
    "print(p1_str)\n",
    "# 新的格式 F-String\n",
    "p1_str = f\"姓名: {person1['姓名']}; 绩点: {person1['绩点']}; 分数: {person1['分数']}\"\n",
    "print(p1_str)"
   ]
  },
  {
   "cell_type": "markdown",
   "id": "54940fa6-78ff-455f-ae1b-1f6e411fd52d",
   "metadata": {},
   "source": [
    "## 挑战题：格式组合应用"
   ]
  },
  {
   "cell_type": "code",
   "execution_count": 16,
   "id": "6b8f575d-f4bf-4830-b1fa-1c765c03e653",
   "metadata": {},
   "outputs": [
    {
     "name": "stdout",
     "output_type": "stream",
     "text": [
      "姓名: geekDuck; 绩点:     3.00; 分数: 82.88700\n"
     ]
    }
   ],
   "source": [
    "p1_str = \"姓名: {姓名:3}; 绩点: {绩点:8.2f}; 分数: {分数:8.5f}\".format(**person1)\n",
    "print(p1_str)"
   ]
  },
  {
   "cell_type": "code",
   "execution_count": null,
   "id": "be93a2d7-6276-4d5e-a89d-d233540c3e14",
   "metadata": {},
   "outputs": [],
   "source": []
  }
 ],
 "metadata": {
  "kernelspec": {
   "display_name": "Python 3",
   "language": "python",
   "name": "python3"
  },
  "language_info": {
   "codemirror_mode": {
    "name": "ipython",
    "version": 3
   },
   "file_extension": ".py",
   "mimetype": "text/x-python",
   "name": "python",
   "nbconvert_exporter": "python",
   "pygments_lexer": "ipython3",
   "version": "3.8.8"
  }
 },
 "nbformat": 4,
 "nbformat_minor": 5
}
