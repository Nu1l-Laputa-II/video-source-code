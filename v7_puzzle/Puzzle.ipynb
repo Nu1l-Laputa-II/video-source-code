{
 "cells": [
  {
   "cell_type": "markdown",
   "id": "2234932e",
   "metadata": {},
   "source": [
    "Find solution to easy pentomino problem.\n",
    "\n",
    "First, try to solve classic tetomino problem (3\\*7). Then, Untouchable 11 problem for simple board (19\\*17)\n",
    "\n",
    "\n",
    "<img src=\"tetomino.png\" alt=\"Drawing\" style=\"width: 400px;\"/>\n",
    "\n",
    "This can be modeled as \"the exact cover\" problem and solved just by solving a linear system."
   ]
  },
  {
   "cell_type": "code",
   "execution_count": 1,
   "id": "145d8b4e",
   "metadata": {},
   "outputs": [],
   "source": [
    "import numpy as np\n",
    "import pandas as pd"
   ]
  },
  {
   "cell_type": "code",
   "execution_count": 238,
   "id": "0e49d3d1",
   "metadata": {},
   "outputs": [],
   "source": [
    "np.set_printoptions(threshold=1000)"
   ]
  },
  {
   "cell_type": "code",
   "execution_count": 3,
   "id": "316f7ec0",
   "metadata": {},
   "outputs": [],
   "source": [
    "# 0: straight (1 possibility for this 3*7 board, horizontal) \n",
    "# 1: sqaure   (1 possibility)\n",
    "# 2: T        (4 possibility)\n",
    "# 3: L        (4 possibility)\n",
    "# 4: skew     (4 possibility)\n",
    "# in order, they are programmed correpsonds to indexes 0-13 as follows\n",
    "rec_shapes = [(1,4), # straight\n",
    "              (2,2), # square\n",
    "              (2,3), (2,3), (3,2), (3,2), # t\n",
    "              (2,3), (2,3), (3,2), (3,2), # l\n",
    "              (2,3), (2,3), (3,2), (3,2), # skew\n",
    "             ]\n",
    "# relative positions cannot filled within its smallest bounding rectangle\n",
    "idx_unfill = [ [],\n",
    "               [],\n",
    "              [3,5], [0,2], [0,4], [1,5],\n",
    "              [0,1], [1,2], [3,4], [4,5],\n",
    "              [0,5], [2,3], [0,5], [1,4]\n",
    "             ]  # within the rectangle"
   ]
  },
  {
   "cell_type": "code",
   "execution_count": 102,
   "id": "2899b7d7",
   "metadata": {},
   "outputs": [],
   "source": [
    "# given (smallest bound) rectangle and its top-left index, return the number of coordinates\n",
    "def rec_all_filled_coords(rec_shape, board_shape):\n",
    "    rec_row, rec_col = rec_shape\n",
    "    boa_row, boa_col = board_shape\n",
    "    # get base coords for shape with left-top at (0,0)\n",
    "    rec_indexes = []\n",
    "    for R in range(rec_row):\n",
    "        for C in range(rec_col):\n",
    "            rec_indexes.append(int(R*boa_col+C))\n",
    "    \n",
    "    all_possible_pos = []\n",
    "    rec_row_max = boa_row - rec_row + 1\n",
    "    rec_col_max = boa_col - rec_col + 1\n",
    "    for r in range(rec_row_max):\n",
    "        for c in range(rec_col_max):\n",
    "            # for each top-left position, get all \n",
    "            add_ = int(r*boa_col+c)\n",
    "            new_pos = [v+add_ for v in rec_indexes]\n",
    "            all_possible_pos.append(new_pos)  # if titris position is known, one can easily get true filled position for them\n",
    "    return all_possible_pos\n",
    "\n",
    "# given specific\n",
    "def all_filled_coords(plan_id, board_shape, print_all=False):\n",
    "    rec_shape = rec_shapes[plan_id]\n",
    "    unfill_idx= idx_unfill[plan_id]\n",
    "    rec_all_pos = rec_all_filled_coords(rec_shape, board_shape)\n",
    "    # display(rec_all_pos)\n",
    "    tet_all_pos = [[ pos for i, pos in enumerate(rec_pos) if i not in unfill_idx] for rec_pos in rec_all_pos ]\n",
    "    if print_all:\n",
    "        display(rec_all_pos)\n",
    "        display(tet_all_pos)\n",
    "    return tet_all_pos"
   ]
  },
  {
   "cell_type": "code",
   "execution_count": 103,
   "id": "eda5f1fd",
   "metadata": {
    "tags": []
   },
   "outputs": [
    {
     "data": {
      "text/plain": [
       "[[0, 1, 2, 3],\n",
       " [1, 2, 3, 4],\n",
       " [2, 3, 4, 5],\n",
       " [3, 4, 5, 6],\n",
       " [7, 8, 9, 10],\n",
       " [8, 9, 10, 11],\n",
       " [9, 10, 11, 12],\n",
       " [10, 11, 12, 13],\n",
       " [14, 15, 16, 17],\n",
       " [15, 16, 17, 18],\n",
       " [16, 17, 18, 19],\n",
       " [17, 18, 19, 20]]"
      ]
     },
     "metadata": {},
     "output_type": "display_data"
    },
    {
     "data": {
      "text/plain": [
       "[[0, 1, 2, 3],\n",
       " [1, 2, 3, 4],\n",
       " [2, 3, 4, 5],\n",
       " [3, 4, 5, 6],\n",
       " [7, 8, 9, 10],\n",
       " [8, 9, 10, 11],\n",
       " [9, 10, 11, 12],\n",
       " [10, 11, 12, 13],\n",
       " [14, 15, 16, 17],\n",
       " [15, 16, 17, 18],\n",
       " [16, 17, 18, 19],\n",
       " [17, 18, 19, 20]]"
      ]
     },
     "metadata": {},
     "output_type": "display_data"
    }
   ],
   "source": [
    "test_tet_pos = all_filled_coords(0, board_shape=(3,7), print_all=True)"
   ]
  },
  {
   "cell_type": "code",
   "execution_count": 6,
   "id": "d5237759",
   "metadata": {},
   "outputs": [
    {
     "data": {
      "text/plain": [
       "[[0, 1, 2, 7, 8, 9],\n",
       " [1, 2, 3, 8, 9, 10],\n",
       " [2, 3, 4, 9, 10, 11],\n",
       " [3, 4, 5, 10, 11, 12],\n",
       " [4, 5, 6, 11, 12, 13],\n",
       " [7, 8, 9, 14, 15, 16],\n",
       " [8, 9, 10, 15, 16, 17],\n",
       " [9, 10, 11, 16, 17, 18],\n",
       " [10, 11, 12, 17, 18, 19],\n",
       " [11, 12, 13, 18, 19, 20]]"
      ]
     },
     "metadata": {},
     "output_type": "display_data"
    },
    {
     "data": {
      "text/plain": [
       "[[1, 7, 8, 9],\n",
       " [2, 8, 9, 10],\n",
       " [3, 9, 10, 11],\n",
       " [4, 10, 11, 12],\n",
       " [5, 11, 12, 13],\n",
       " [8, 14, 15, 16],\n",
       " [9, 15, 16, 17],\n",
       " [10, 16, 17, 18],\n",
       " [11, 17, 18, 19],\n",
       " [12, 18, 19, 20]]"
      ]
     },
     "metadata": {},
     "output_type": "display_data"
    }
   ],
   "source": [
    "test_tet_pos = all_filled_coords(3, board_shape=(3,7), print_all=True)"
   ]
  },
  {
   "cell_type": "code",
   "execution_count": 7,
   "id": "7d48f79e",
   "metadata": {},
   "outputs": [
    {
     "data": {
      "text/plain": [
       "[[0, 1, 2, 7, 8, 9],\n",
       " [1, 2, 3, 8, 9, 10],\n",
       " [2, 3, 4, 9, 10, 11],\n",
       " [3, 4, 5, 10, 11, 12],\n",
       " [4, 5, 6, 11, 12, 13],\n",
       " [7, 8, 9, 14, 15, 16],\n",
       " [8, 9, 10, 15, 16, 17],\n",
       " [9, 10, 11, 16, 17, 18],\n",
       " [10, 11, 12, 17, 18, 19],\n",
       " [11, 12, 13, 18, 19, 20]]"
      ]
     },
     "metadata": {},
     "output_type": "display_data"
    },
    {
     "data": {
      "text/plain": [
       "[[2, 7, 8, 9],\n",
       " [3, 8, 9, 10],\n",
       " [4, 9, 10, 11],\n",
       " [5, 10, 11, 12],\n",
       " [6, 11, 12, 13],\n",
       " [9, 14, 15, 16],\n",
       " [10, 15, 16, 17],\n",
       " [11, 16, 17, 18],\n",
       " [12, 17, 18, 19],\n",
       " [13, 18, 19, 20]]"
      ]
     },
     "metadata": {},
     "output_type": "display_data"
    }
   ],
   "source": [
    "test_tet_pos = all_filled_coords(6, board_shape=(3,7), print_all=True)"
   ]
  },
  {
   "cell_type": "code",
   "execution_count": 22,
   "id": "9e6f34b4",
   "metadata": {},
   "outputs": [],
   "source": [
    "def get_shape_id(plan_id):\n",
    "    if plan_id ==0:\n",
    "        return 0\n",
    "    if plan_id ==1:\n",
    "        return 1\n",
    "    if plan_id <=5:\n",
    "        return 2\n",
    "    if plan_id <=9:\n",
    "        return 3\n",
    "    return 4\n",
    "\n",
    "# generate all possible positions for all tetris plan\n",
    "# plan is coded as such: (t1, t2, t3, t4, plan_id)\n",
    "# this is turned directly into the indexes of ones\n",
    "def get_all_plans():\n",
    "    num_tets = len(rec_shapes)\n",
    "    all_poitions = []\n",
    "    for tets_id in range(num_tets):\n",
    "        id_plans = all_filled_coords(tets_id)\n",
    "        object_id = get_shape_id(tets_id)\n",
    "        id_plans = [[object_id]+p for p in id_plans]\n",
    "        all_poitions += id_plans\n",
    "    return all_poitions\n",
    "all_positions = get_all_plans()"
   ]
  },
  {
   "cell_type": "code",
   "execution_count": 23,
   "id": "0876a53d",
   "metadata": {},
   "outputs": [
    {
     "name": "stdout",
     "output_type": "stream",
     "text": [
      "120\n"
     ]
    },
    {
     "data": {
      "text/plain": [
       "[[0, 0, 1, 2, 3],\n",
       " [0, 1, 2, 3, 4],\n",
       " [0, 2, 3, 4, 5],\n",
       " [0, 3, 4, 5, 6],\n",
       " [0, 7, 8, 9, 10]]"
      ]
     },
     "metadata": {},
     "output_type": "display_data"
    },
    {
     "data": {
      "text/plain": [
       "[[4, 1, 8, 9, 16],\n",
       " [4, 2, 9, 10, 17],\n",
       " [4, 3, 10, 11, 18],\n",
       " [4, 4, 11, 12, 19],\n",
       " [4, 5, 12, 13, 20]]"
      ]
     },
     "metadata": {},
     "output_type": "display_data"
    }
   ],
   "source": [
    "# there are 140 possibilities for tetris\n",
    "print(len(all_positions))\n",
    "display(all_positions[:5])\n",
    "display(all_positions[-5:])"
   ]
  },
  {
   "cell_type": "code",
   "execution_count": 24,
   "id": "d4c8ca66",
   "metadata": {},
   "outputs": [],
   "source": [
    "# reformat this into matrix\n",
    "mat_tiles = np.zeros((120,21)) # 21 tiles\n",
    "mat_tetris= np.zeros((120,5)) # 5 tetris shapes\n",
    "def fill_ones(mat_tiles, mat_tetris, all_positions):\n",
    "    for i, pos in enumerate(all_positions):\n",
    "        for j, item in enumerate(pos):\n",
    "            if j==0: # tetris id\n",
    "                mat_tetris[i, item] = 1\n",
    "            else: # tile\n",
    "                mat_tiles[i, item] = 1\n",
    "    return mat_tiles, mat_tetris\n",
    "\n",
    "mat_tiles, mat_tetris = fill_ones(mat_tiles, mat_tetris, all_positions)"
   ]
  },
  {
   "cell_type": "code",
   "execution_count": 25,
   "id": "36ef2caa",
   "metadata": {},
   "outputs": [
    {
     "name": "stdout",
     "output_type": "stream",
     "text": [
      "(120, 21)\n",
      "(120, 5)\n"
     ]
    }
   ],
   "source": [
    "print(mat_tiles.shape)\n",
    "print(mat_tetris.shape)"
   ]
  },
  {
   "cell_type": "code",
   "execution_count": 33,
   "id": "418ffd77",
   "metadata": {
    "tags": []
   },
   "outputs": [],
   "source": [
    "pd.options.display.max_columns = None\n",
    "pd.options.display.max_rows = None\n",
    "mat1_pd = pd.DataFrame(mat_tiles)\n",
    "mat1_pd = mat1_pd.astype(int)\n",
    "# display(mat1_pd)"
   ]
  },
  {
   "cell_type": "code",
   "execution_count": 27,
   "id": "2a662aaa",
   "metadata": {},
   "outputs": [],
   "source": [
    "# optional: add more constraints (each tentris only appears once)\n",
    "# index 21-> straight; 22: square; [23,26]:T; [27,30]:L; [31:34]:skew"
   ]
  },
  {
   "cell_type": "code",
   "execution_count": 28,
   "id": "89288953",
   "metadata": {},
   "outputs": [],
   "source": [
    "import gurobipy as gp\n",
    "from gurobipy import GRB"
   ]
  },
  {
   "cell_type": "code",
   "execution_count": 30,
   "id": "64e800d7",
   "metadata": {},
   "outputs": [],
   "source": [
    "# try to solve by prime LP\n",
    "m1 = gp.Model(\"puzzle prime\")\n",
    "# Create variables, whether use plan i\n",
    "x = m1.addMVar(shape=120, vtype=GRB.BINARY, name=\"x\")\n",
    "# objective zero vector, and objective function\n",
    "b1 = np.array([1]*21)\n",
    "b2 = np.array([1]*5)\n",
    "c = np.array([0.0]*120)\n",
    "m1.setObjective(x @ c, GRB.MAXIMIZE)"
   ]
  },
  {
   "cell_type": "code",
   "execution_count": 31,
   "id": "eb13310b",
   "metadata": {},
   "outputs": [
    {
     "name": "stdout",
     "output_type": "stream",
     "text": [
      "Gurobi Optimizer version 9.1.2 build v9.1.2rc0 (mac64)\n",
      "Thread count: 8 physical cores, 16 logical processors, using up to 16 threads\n",
      "Optimize a model with 26 rows, 120 columns and 600 nonzeros\n",
      "Model fingerprint: 0x29db436f\n",
      "Variable types: 0 continuous, 120 integer (120 binary)\n",
      "Coefficient statistics:\n",
      "  Matrix range     [1e+00, 1e+00]\n",
      "  Objective range  [0e+00, 0e+00]\n",
      "  Bounds range     [1e+00, 1e+00]\n",
      "  RHS range        [1e+00, 1e+00]\n",
      "Presolve removed 0 rows and 30 columns\n",
      "Presolve time: 0.00s\n",
      "Presolved: 26 rows, 90 columns, 482 nonzeros\n",
      "Variable types: 0 continuous, 90 integer (90 binary)\n",
      "\n",
      "Root relaxation: objective -0.000000e+00, 33 iterations, 0.00 seconds\n",
      "\n",
      "    Nodes    |    Current Node    |     Objective Bounds      |     Work\n",
      " Expl Unexpl |  Obj  Depth IntInf | Incumbent    BestBd   Gap | It/Node Time\n",
      "\n",
      "     0     0   -0.00000    0   15          -   -0.00000      -     -    0s\n",
      "H    0     0                      -0.0000000   -0.00000  0.00%     -    0s\n",
      "\n",
      "Cutting planes:\n",
      "  Gomory: 6\n",
      "  Clique: 9\n",
      "  Zero half: 5\n",
      "\n",
      "Explored 1 nodes (72 simplex iterations) in 0.02 seconds\n",
      "Thread count was 16 (of 16 available processors)\n",
      "\n",
      "Solution count 1: -0 \n",
      "No other solutions better than -0\n",
      "\n",
      "Optimal solution found (tolerance 1.00e-04)\n",
      "Best objective -0.000000000000e+00, best bound -0.000000000000e+00, gap 0.0000%\n"
     ]
    }
   ],
   "source": [
    "m1.addConstr(mat_tiles.T @ x <= b1, name=\"c_tile\")    # not all tiles needs to be filled\n",
    "m1.addConstr(mat_tetris.T @ x == b2, name=\"c_tetris\") # all shapes used exactly once!!!\n",
    "m1.optimize()"
   ]
  },
  {
   "cell_type": "code",
   "execution_count": 32,
   "id": "569bed92",
   "metadata": {},
   "outputs": [
    {
     "data": {
      "text/plain": [
       "array([0., 0., 0., 0., 0., 0., 0., 0., 0., 0., 0., 1., 0., 0., 0., 0., 0.,\n",
       "       1., 0., 0., 0., 0., 0., 0., 0., 0., 1., 0., 0., 0., 0., 0., 0., 0.,\n",
       "       0., 0., 0., 0., 0., 0., 0., 0., 0., 0., 0., 0., 0., 0., 0., 0., 0.,\n",
       "       0., 0., 0., 0., 0., 0., 0., 0., 0., 0., 0., 0., 0., 0., 0., 0., 0.,\n",
       "       0., 0., 0., 1., 0., 0., 0., 0., 0., 0., 0., 0., 0., 0., 0., 0., 0.,\n",
       "       0., 0., 0., 0., 0., 0., 0., 0., 0., 0., 0., 0., 0., 1., 0., 0., 0.,\n",
       "       0., 0., 0., 0., 0., 0., 0., 0., 0., 0., 0., 0., 0., 0., 0., 0., 0.,\n",
       "       0.])"
      ]
     },
     "execution_count": 32,
     "metadata": {},
     "output_type": "execute_result"
    }
   ],
   "source": [
    "x.X"
   ]
  },
  {
   "cell_type": "code",
   "execution_count": 40,
   "id": "0ee34e8b",
   "metadata": {},
   "outputs": [],
   "source": [
    "sel_mask = x.X.astype(bool)"
   ]
  },
  {
   "cell_type": "markdown",
   "id": "03388322",
   "metadata": {},
   "source": [
    "# Visualize the result"
   ]
  },
  {
   "cell_type": "code",
   "execution_count": 43,
   "id": "147cf314",
   "metadata": {},
   "outputs": [],
   "source": [
    "def convert_idx2coords(lst):\n",
    "    return [ (int(i/7), i%7) for i, item in enumerate(lst) if item==1]"
   ]
  },
  {
   "cell_type": "code",
   "execution_count": 44,
   "id": "d1846909",
   "metadata": {},
   "outputs": [
    {
     "data": {
      "text/plain": [
       "[[(2, 3), (2, 4), (2, 5), (2, 6)],\n",
       " [(0, 5), (0, 6), (1, 5), (1, 6)],\n",
       " [(0, 2), (0, 3), (0, 4), (1, 3)],\n",
       " [(1, 0), (2, 0), (2, 1), (2, 2)],\n",
       " [(0, 0), (0, 1), (1, 1), (1, 2)]]"
      ]
     },
     "metadata": {},
     "output_type": "display_data"
    }
   ],
   "source": [
    "# get selected rows\n",
    "mat_tile_sel = mat_tiles[sel_mask, :]\n",
    "mat_tile_sel = [ convert_idx2coords(lst) for lst in mat_tile_sel]\n",
    "display(mat_tile_sel)"
   ]
  },
  {
   "cell_type": "code",
   "execution_count": 75,
   "id": "396c60ad",
   "metadata": {},
   "outputs": [],
   "source": [
    "import matplotlib.pyplot as plt\n",
    "import matplotlib.patches as patches\n",
    "from matplotlib.collections import PatchCollection\n",
    "from matplotlib import cm"
   ]
  },
  {
   "cell_type": "code",
   "execution_count": 93,
   "id": "294c79fd",
   "metadata": {},
   "outputs": [
    {
     "data": {
      "image/png": "[encoded data removed]",
      "text/plain": [
       "<Figure size 1008x432 with 1 Axes>"
      ]
     },
     "metadata": {
      "needs_background": "light"
     },
     "output_type": "display_data"
    }
   ],
   "source": [
    "# Create figure and axes\n",
    "mycolors= cm.get_cmap('Pastel2').colors\n",
    "fig, ax = plt.subplots(figsize=(7*2, 3*2))\n",
    "plt.xlim([-.5, 7.5])\n",
    "plt.ylim([-.5, 3.5])\n",
    "\n",
    "rect_lst = []\n",
    "for i, plan_lst in enumerate(mat_tile_sel):\n",
    "    for coords in plan_lst:\n",
    "        coords = coords[::-1]\n",
    "        rect = patches.Rectangle(coords, 0.8, 0.8, color=mycolors[i])\n",
    "        ax.add_artist(rect)\n",
    "        rect_lst.append(rect)\n",
    "# plot all rect\n",
    "ax.add_collection(PatchCollection(rect_lst))\n",
    "ax.set_aspect('equal')\n",
    "plt.axis('off')\n",
    "plt.show()"
   ]
  },
  {
   "cell_type": "markdown",
   "id": "4406cbc1",
   "metadata": {},
   "source": [
    "# Try to solve *Untouchable-11* problem\n",
    "\n",
    "The solution is exactly the same except needs more time to formulate and solve the problem.\n",
    "\n",
    "<img src=\"untouchable-11.png\" alt=\"Drawing\" style=\"width: 400px;\"/>\n",
    "\n",
    "Just increase the margin with 0.5 tile"
   ]
  },
  {
   "cell_type": "markdown",
   "id": "8ddabf9b",
   "metadata": {},
   "source": [
    "We will use the above A,B,C,D,E,F,G,H,I,J,K (or 0-10) to denote each piece in order"
   ]
  },
  {
   "cell_type": "code",
   "execution_count": 411,
   "id": "a4aa2b1b",
   "metadata": {},
   "outputs": [],
   "source": [
    "rec_shapes1 = {0:[(4, 3), (4, 3), (4, 3), (4, 3), (3, 4), (3, 4), (3, 4), (3, 4)], # 2*4 possibilities\n",
    "               1:[(4, 3), (4, 3), (3, 4), (3, 4)], # 2*2 possibilities\n",
    "               2:[(4, 3), (4, 3), (3, 4), (3, 4)], # orange\n",
    "               3:[(4, 3), (4, 3), (3, 4), (3, 4)], # green\n",
    "               4:[(4, 3), (4, 3), (3, 4), (3, 4)], # yellow\n",
    "               5:[(4, 3), (4, 3), (4, 3), (4, 3), (3, 4), (3, 4), (3, 4), (3, 4)], # pink\n",
    "               6:[(4, 3), (4, 3), (4, 3), (4, 3), (3, 4), (3, 4), (3, 4), (3, 4)], # grey\n",
    "               7:[(4, 3), (4, 3), (3, 4), (3, 4)], # blue\n",
    "               8:[(4, 3), (4, 3), (3, 4), (3, 4)], # purple\n",
    "               9:[(2, 5), (2, 5), (5, 2), (5, 2)], # red\n",
    "               10:[(4, 3), (4, 3), (4, 3), (4, 3), (3, 4), (3, 4), (3, 4), (3, 4)], # navy blue\n",
    "              }"
   ]
  },
  {
   "cell_type": "code",
   "execution_count": 412,
   "id": "8025f5d1",
   "metadata": {},
   "outputs": [],
   "source": [
    "idx_unfill1 = {0:[[0,2,3,5,10,11], [0,2,3,5,9,10], [0,1,6,8,9,11], [1,2,6,8,9,11],\n",
    "                    [2,3,4,8,10,11], [0,2,3,4,10,11], [0,1,7,8,9,11], [0,1,3,7,8,9]],\n",
    "                 1:[[2,3,5,6,8,9], [0,3,5,6,8,11], [0,1,2,9,10,11], [1,2,3,8,9,10]],\n",
    "                 2:[[0,2,5,6,9,11], [0,2,3,8,9,11], [0,2,3,8,9,11], [0,1,3,8,10,11]],\n",
    "                 3:[[2,3,5,6,9,10], [0,3,5,8,10,11], [1,2,3,7,8,9], [0,1,7,9,10,11]],\n",
    "                 4:[[0,2,3,5,9,11], [0,2,6,8,9,11], [0,2,3,8,10,11], [0,1,3,8,9,11]],\n",
    "                 5:[[0,5,6,8,9,11], [2,3,6,8,9,11], [0,2,3,5,8,9], [0,2,3,5,6,11],\n",
    "                    [0,2,3,9,10,11], [1,2,3,8,10,11], [0,1,3,8,9,10], [0,1,2,8,9,11]],\n",
    "                 6:[[2,3,5,6,9,11], [0,2,3,6,8,11], [0,3,5,8,9,11], [0,2,5,6,8,9],\n",
    "                    [0,2,3,8,9,10], [0,1,3,9,10,11], [0,1,2,8,10,11], [1,2,3,8,9,11]],\n",
    "                 7:[[3,5,6,8,9,11], [0,2,3,5,6,8], [0,1,2,8,9,10], [1,2,3,9,10,11]],\n",
    "                 8:[[1,2,5,6,9,10], [0,1,3,8,10,11], [2,3,4,7,8,9], [0,1,4,7,10,11]],\n",
    "                 9:[[0,1,8,9], [3,4,5,6], [1,3,6,8], [0,2,7,9]],\n",
    "                 10:[[1,2,5,6,9,11], [0,2,3,8,10,11], [0,1,3,8,9,11], [0,2,5,6,9,10],\n",
    "                    [0,2,3,7,8,9],[0,1,3,4,10,11],[0,1,7,8,10,11],[2,3,4,8,9,11]]\n",
    "                 }"
   ]
  },
  {
   "cell_type": "code",
   "execution_count": 413,
   "id": "3702f69d",
   "metadata": {},
   "outputs": [],
   "source": [
    "def rec_all_filled_coords1(rec_shape, board_shape):\n",
    "    rec_row, rec_col = rec_shape\n",
    "    boa_row, boa_col = board_shape\n",
    "    # get base coords for shape with left-top at (0,0)\n",
    "    rec_indexes = []\n",
    "    for R in range(rec_row):\n",
    "        for C in range(rec_col):\n",
    "            rec_indexes.append(int(R*boa_col+C))\n",
    "    \n",
    "    all_possible_pos = []\n",
    "    rec_row_max = boa_row - rec_row + 1\n",
    "    rec_col_max = boa_col - rec_col + 1\n",
    "    for r in range(rec_row_max):\n",
    "        for c in range(rec_col_max):\n",
    "            # for each top-left position, get all \n",
    "            add_ = int(r*boa_col+c)\n",
    "            new_pos = [v+add_ for v in rec_indexes]\n",
    "            all_possible_pos.append(new_pos)  # if titris position is known, one can easily get true filled position for them\n",
    "    return all_possible_pos\n",
    "\n",
    "def all_filled_coords1(piece_id, board_shape, print_all=False):\n",
    "    rec_shapes  = rec_shapes1[piece_id]\n",
    "    unfill_idxes= idx_unfill1[piece_id]\n",
    "    middle_lst = []\n",
    "    for k, rec_shape in enumerate(rec_shapes): # for each plan\n",
    "        unfill_idx = unfill_idxes[k]\n",
    "        rec_all_pos = rec_all_filled_coords1(rec_shape, board_shape)\n",
    "        # display(rec_all_pos)\n",
    "        tet_all_pos = [[ pos for i, pos in enumerate(rec_pos) if i not in unfill_idx] for rec_pos in rec_all_pos ]\n",
    "        middle_lst.append(tet_all_pos)\n",
    "    if print_all:\n",
    "        display(middle_lst)\n",
    "    return middle_lst"
   ]
  },
  {
   "cell_type": "code",
   "execution_count": 421,
   "id": "594547c1",
   "metadata": {
    "tags": []
   },
   "outputs": [
    {
     "name": "stdout",
     "output_type": "stream",
     "text": [
      "8\n",
      "90\n"
     ]
    }
   ],
   "source": [
    "# check all for piece 0 (hopefully this is correct)\n",
    "bs = (12,12)\n",
    "bs_fine = (12*2+2, 12*2+2)\n",
    "\n",
    "test_tet_pos = all_filled_coords1(10, bs)\n",
    "print(len(test_tet_pos))\n",
    "print(len(test_tet_pos[0]))\n",
    "# a list of list of list"
   ]
  },
  {
   "cell_type": "code",
   "execution_count": 422,
   "id": "96ed9759",
   "metadata": {},
   "outputs": [],
   "source": [
    "def get_all_plans1():\n",
    "    num_pieces = len(rec_shapes1)\n",
    "    all_poitions = []\n",
    "    for piece_id in range(num_pieces):\n",
    "        piece_plans = all_filled_coords1(piece_id, bs) # a list of list of plans\n",
    "        for plan_id, plans in enumerate(piece_plans):\n",
    "            new_plans = [[piece_id]+p for p in plans]\n",
    "            all_poitions += new_plans\n",
    "    return all_poitions\n",
    "all_positions = get_all_plans1()"
   ]
  },
  {
   "cell_type": "code",
   "execution_count": 447,
   "id": "86af4b02",
   "metadata": {},
   "outputs": [
    {
     "name": "stdout",
     "output_type": "stream",
     "text": [
      "5392\n"
     ]
    },
    {
     "data": {
      "text/plain": [
       "[[0, 1, 13, 24, 25, 26, 36],\n",
       " [0, 2, 14, 25, 26, 27, 37],\n",
       " [0, 3, 15, 26, 27, 28, 38],\n",
       " [0, 4, 16, 27, 28, 29, 39],\n",
       " [0, 5, 17, 28, 29, 30, 40]]"
      ]
     },
     "metadata": {},
     "output_type": "display_data"
    },
    {
     "data": {
      "text/plain": [
       "[[10, 112, 113, 125, 126, 127, 138],\n",
       " [10, 113, 114, 126, 127, 128, 139],\n",
       " [10, 114, 115, 127, 128, 129, 140],\n",
       " [10, 115, 116, 128, 129, 130, 141],\n",
       " [10, 116, 117, 129, 130, 131, 142]]"
      ]
     },
     "metadata": {},
     "output_type": "display_data"
    }
   ],
   "source": [
    "print(len(all_positions))\n",
    "display(all_positions[:5])\n",
    "display(all_positions[-5:])"
   ]
  },
  {
   "cell_type": "code",
   "execution_count": 424,
   "id": "d1418574",
   "metadata": {},
   "outputs": [],
   "source": [
    "def change_to_finer_coords(pos, bs, if_print=False):\n",
    "    r, c = bs\n",
    "    piece_id = pos[0]\n",
    "    indexes = pos[1:]\n",
    "    # convert to row, col\n",
    "    lst_rc = [ (int(idx/c), idx%c) for idx in indexes]\n",
    "    if if_print:\n",
    "        print(lst_rc)\n",
    "    # convert from coarse to finer\n",
    "    finer_coords = []\n",
    "    for R,C in lst_rc: # also, add new margin\n",
    "        temp_recs = []\n",
    "        # row left, column left\n",
    "        RL, CL = 2*R, 2*C\n",
    "        RR, CR = RL+3, CL+3\n",
    "        # 16 possible finer values\n",
    "        for R in range(RL,RR+1):\n",
    "            for C in range(CL,CR+1):\n",
    "                temp_recs.append((R,C))\n",
    "        finer_coords += temp_recs\n",
    "    finer_coords = list(set(finer_coords)) # filter useless coords\n",
    "    new_c = 2*c+2\n",
    "    finer_lst = [piece_id] + sorted([ x*new_c+y for x,y in finer_coords ])\n",
    "    return finer_lst\n",
    "\n",
    "def change_to_finer_coords_all(positions, bs):\n",
    "    return [change_to_finer_coords(pos, bs) for pos in positions]\n",
    "\n",
    "def convert_idx2coords2(lst, bs): # for coarse network\n",
    "    r,c = bs\n",
    "    return [ (int(item/c), item%c) for i, item in enumerate(lst)]"
   ]
  },
  {
   "cell_type": "code",
   "execution_count": 425,
   "id": "7f0272a8",
   "metadata": {},
   "outputs": [
    {
     "name": "stdout",
     "output_type": "stream",
     "text": [
      "[10, 484, 485, 486, 487, 488, 489, 510, 511, 512, 513, 514, 515, 536, 537, 538, 539, 540, 541, 542, 543, 544, 545, 562, 563, 564, 565, 566, 567, 568, 569, 570, 571, 590, 591, 592, 593, 594, 595, 596, 597, 616, 617, 618, 619, 620, 621, 622, 623, 644, 645, 646, 647, 670, 671, 672, 673]\n",
      "[(18, 16), (18, 17), (18, 18), (18, 19), (18, 20), (18, 21), (19, 16), (19, 17), (19, 18), (19, 19), (19, 20), (19, 21), (20, 16), (20, 17), (20, 18), (20, 19), (20, 20), (20, 21), (20, 22), (20, 23), (20, 24), (20, 25), (21, 16), (21, 17), (21, 18), (21, 19), (21, 20), (21, 21), (21, 22), (21, 23), (21, 24), (21, 25), (22, 18), (22, 19), (22, 20), (22, 21), (22, 22), (22, 23), (22, 24), (22, 25), (23, 18), (23, 19), (23, 20), (23, 21), (23, 22), (23, 23), (23, 24), (23, 25), (24, 20), (24, 21), (24, 22), (24, 23), (25, 20), (25, 21), (25, 22), (25, 23)]\n"
     ]
    }
   ],
   "source": [
    "my_r1 = change_to_finer_coords(all_positions[-1], bs, if_print=False)\n",
    "print(my_r1)\n",
    "my_r2 = convert_idx2coords2(my_r1[1:], bs_fine)\n",
    "print(my_r2)"
   ]
  },
  {
   "cell_type": "code",
   "execution_count": 426,
   "id": "e56b3a6e",
   "metadata": {},
   "outputs": [
    {
     "data": {
      "image/png": "[encoded data removed]",
      "text/plain": [
       "<Figure size 432x288 with 1 Axes>"
      ]
     },
     "metadata": {
      "needs_background": "light"
     },
     "output_type": "display_data"
    }
   ],
   "source": [
    "xs = [ item[0] for item in my_r2]\n",
    "ys = [ item[1] for item in my_r2]\n",
    "plt.plot(xs,ys, '+')\n",
    "plt.gca().set_aspect('equal')"
   ]
  },
  {
   "cell_type": "code",
   "execution_count": 427,
   "id": "ed6f4640",
   "metadata": {},
   "outputs": [],
   "source": [
    "# hopefully the conversion is correct\n",
    "fine_positions = change_to_finer_coords_all(all_positions, bs)"
   ]
  },
  {
   "cell_type": "code",
   "execution_count": 428,
   "id": "0b1a1b00",
   "metadata": {},
   "outputs": [
    {
     "name": "stdout",
     "output_type": "stream",
     "text": [
      "5392\n",
      "[0, 2, 3, 4, 5, 28, 29, 30, 31, 54, 55, 56, 57, 80, 81, 82, 83, 104, 105, 106]\n",
      "[0, 4, 5, 6, 7, 30, 31, 32, 33, 56, 57, 58, 59, 82, 83, 84, 85, 106, 107, 108]\n",
      "[0, 6, 7, 8, 9, 32, 33, 34, 35, 58, 59, 60, 61, 84, 85, 86, 87, 108, 109, 110]\n",
      "[10, 484, 485, 486, 487, 488, 489, 510, 511, 512, 513, 514, 515, 536, 537, 538, 539, 540, 541, 542]\n",
      "[10, 482, 483, 484, 485, 486, 487, 508, 509, 510, 511, 512, 513, 534, 535, 536, 537, 538, 539, 540]\n",
      "[10, 480, 481, 482, 483, 484, 485, 506, 507, 508, 509, 510, 511, 532, 533, 534, 535, 536, 537, 538]\n"
     ]
    }
   ],
   "source": [
    "print(len(fine_positions))\n",
    "print(fine_positions[0][:20])\n",
    "print(fine_positions[1][:20])\n",
    "print(fine_positions[2][:20])\n",
    "print(fine_positions[-1][:20])\n",
    "print(fine_positions[-2][:20])\n",
    "print(fine_positions[-3][:20])"
   ]
  },
  {
   "cell_type": "code",
   "execution_count": 430,
   "id": "633bb8d5",
   "metadata": {},
   "outputs": [
    {
     "data": {
      "text/plain": [
       "676"
      ]
     },
     "execution_count": 430,
     "metadata": {},
     "output_type": "execute_result"
    }
   ],
   "source": [
    "(12*2+2)*(12*2+2) # 26 * 26"
   ]
  },
  {
   "cell_type": "code",
   "execution_count": 448,
   "id": "f28cd5d2",
   "metadata": {},
   "outputs": [],
   "source": [
    "# reformat this into matrix\n",
    "M_tiles  = np.zeros((5392,(12*2+2)*(12*2+2))) # 676 tiles\n",
    "M_tetris = np.zeros((5392,11)) # 11 tetris pieces\n",
    "def fill_ones(mat_tiles, mat_tetris, all_positions):\n",
    "    for i, pos in enumerate(all_positions):\n",
    "        for j, item in enumerate(pos):\n",
    "            if j==0: # tetris piece id\n",
    "                mat_tetris[i, item] = 1\n",
    "            else: # tile\n",
    "                mat_tiles[i, item] = 1\n",
    "    return mat_tiles, mat_tetris\n",
    "\n",
    "M_tiles, M_tetris = fill_ones(M_tiles, M_tetris, fine_positions)"
   ]
  },
  {
   "cell_type": "code",
   "execution_count": 449,
   "id": "05512ef0",
   "metadata": {},
   "outputs": [],
   "source": [
    "M_tiles_coarse = []"
   ]
  },
  {
   "cell_type": "code",
   "execution_count": 450,
   "id": "8d0f1d7f",
   "metadata": {},
   "outputs": [
    {
     "name": "stdout",
     "output_type": "stream",
     "text": [
      "(5392, 676)\n",
      "(5392, 11)\n"
     ]
    }
   ],
   "source": [
    "print(M_tiles.shape)\n",
    "print(M_tetris.shape)\n",
    "# check no column contains zero\n",
    "# print(np.where(~M_tiles.any(axis=1))[0])\n",
    "# print(np.where(~M_tiles.any(axis=1))[0])\n",
    "# print(np.where(~M_tetris.any(axis=1))[0])\n",
    "# print(np.where(~M_tetris.any(axis=1))[0])"
   ]
  },
  {
   "cell_type": "code",
   "execution_count": 451,
   "id": "e4fe01f8",
   "metadata": {},
   "outputs": [],
   "source": [
    "import gurobipy as gp\n",
    "from gurobipy import GRB"
   ]
  },
  {
   "cell_type": "code",
   "execution_count": 452,
   "id": "ccb2bd7f",
   "metadata": {},
   "outputs": [],
   "source": [
    "# try to solve by prime LP\n",
    "m2 = gp.Model(\"puzzle prime\")\n",
    "# Create variables, whether use plan i\n",
    "x = m2.addMVar(shape=5392, vtype=GRB.BINARY, name=\"x\")\n",
    "# objective zero vector, and objective function\n",
    "b1 = np.array([1]*676)\n",
    "b2 = np.array([1]*11)\n",
    "c = np.array([0.0]*5392)\n",
    "# change goal: maximize\n",
    "m2.setObjective(x @ c, GRB.MAXIMIZE)"
   ]
  },
  {
   "cell_type": "code",
   "execution_count": 453,
   "id": "52aa009b",
   "metadata": {},
   "outputs": [
    {
     "name": "stdout",
     "output_type": "stream",
     "text": [
      "Gurobi Optimizer version 9.1.2 build v9.1.2rc0 (mac64)\n",
      "Thread count: 8 physical cores, 16 logical processors, using up to 16 threads\n",
      "Optimize a model with 687 rows, 5392 columns and 307344 nonzeros\n",
      "Model fingerprint: 0xe0877f46\n",
      "Variable types: 0 continuous, 5392 integer (5392 binary)\n",
      "Coefficient statistics:\n",
      "  Matrix range     [1e+00, 1e+00]\n",
      "  Objective range  [0e+00, 0e+00]\n",
      "  Bounds range     [1e+00, 1e+00]\n",
      "  RHS range        [1e+00, 1e+00]\n",
      "Presolve removed 555 rows and 512 columns\n",
      "Presolve time: 0.19s\n",
      "Presolved: 132 rows, 4880 columns, 68496 nonzeros\n",
      "Variable types: 0 continuous, 4880 integer (4880 binary)\n",
      "\n",
      "Root relaxation: objective -0.000000e+00, 579 iterations, 0.06 seconds\n",
      "\n",
      "    Nodes    |    Current Node    |     Objective Bounds      |     Work\n",
      " Expl Unexpl |  Obj  Depth IntInf | Incumbent    BestBd   Gap | It/Node Time\n",
      "\n",
      "     0     0   -0.00000    0   98          -   -0.00000      -     -    0s\n",
      "     0     0   -0.00000    0  114          -   -0.00000      -     -    0s\n",
      "     0     0   -0.00000    0  112          -   -0.00000      -     -    0s\n",
      "     0     0   -0.00000    0  115          -   -0.00000      -     -    1s\n",
      "     0     0   -0.00000    0  115          -   -0.00000      -     -    2s\n",
      "     0     2   -0.00000    0  108          -   -0.00000      -     -    3s\n",
      "   475    71   -0.00000    7  114          -   -0.00000      -   286    5s\n",
      "*  773    87              13      -0.0000000   -0.00000  0.00%   284    6s\n",
      "\n",
      "Cutting planes:\n",
      "  Clique: 74\n",
      "  MIR: 4\n",
      "\n",
      "Explored 838 nodes (258557 simplex iterations) in 6.09 seconds\n",
      "Thread count was 16 (of 16 available processors)\n",
      "\n",
      "Solution count 1: -0 \n",
      "No other solutions better than -0\n",
      "\n",
      "Optimal solution found (tolerance 1.00e-04)\n",
      "Best objective -0.000000000000e+00, best bound -0.000000000000e+00, gap 0.0000%\n"
     ]
    }
   ],
   "source": [
    "m2.addConstr(M_tiles.T @ x <= b1, name=\"c_tile\")    # not all tiles needs to be filled\n",
    "m2.addConstr(M_tetris.T @ x == b2, name=\"c_tetris\") # all shapes used & used exactly once!!!\n",
    "m2.optimize()"
   ]
  },
  {
   "cell_type": "code",
   "execution_count": 454,
   "id": "62b9a4fb",
   "metadata": {},
   "outputs": [
    {
     "data": {
      "text/plain": [
       "11.0"
      ]
     },
     "execution_count": 454,
     "metadata": {},
     "output_type": "execute_result"
    }
   ],
   "source": [
    "x.X.sum()"
   ]
  },
  {
   "cell_type": "markdown",
   "id": "e7a7b4b1",
   "metadata": {},
   "source": [
    "# Visualize the result"
   ]
  },
  {
   "cell_type": "code",
   "execution_count": 455,
   "id": "e628fb17",
   "metadata": {},
   "outputs": [],
   "source": [
    "sel_mask = x.X.astype(bool)"
   ]
  },
  {
   "cell_type": "code",
   "execution_count": 456,
   "id": "9d967be3",
   "metadata": {},
   "outputs": [],
   "source": [
    "def convert_idx2coords1(lst, bs): # for coarse network\n",
    "    r,c = bs\n",
    "    return [ (int(i/c), i%c) for i, item in enumerate(lst) if item==1]"
   ]
  },
  {
   "cell_type": "code",
   "execution_count": 457,
   "id": "89c3ec52",
   "metadata": {},
   "outputs": [
    {
     "name": "stdout",
     "output_type": "stream",
     "text": [
      "[[(18, 18), (18, 19), (18, 20), (18, 21), (19, 18), (19, 19), (19, 20), (19, 21), (20, 18), (20, 19), (20, 20), (20, 21), (20, 22), (20, 23), (20, 24), (20, 25), (21, 18), (21, 19), (21, 20), (21, 21), (21, 22), (21, 23), (21, 24), (21, 25), (22, 16), (22, 17), (22, 18), (22, 19), (22, 20), (22, 21), (22, 22), (22, 23), (22, 24), (22, 25), (23, 16), (23, 17), (23, 18), (23, 19), (23, 20), (23, 21), (23, 22), (23, 23), (23, 24), (23, 25), (24, 16), (24, 17), (24, 18), (24, 19), (24, 20), (24, 21), (25, 16), (25, 17), (25, 18), (25, 19), (25, 20), (25, 21)], [(16, 6), (16, 7), (16, 8), (16, 9), (16, 10), (16, 11), (17, 6), (17, 7), (17, 8), (17, 9), (17, 10), (17, 11), (18, 6), (18, 7), (18, 8), (18, 9), (18, 10), (18, 11), (19, 6), (19, 7), (19, 8), (19, 9), (19, 10), (19, 11), (20, 6), (20, 7), (20, 8), (20, 9), (21, 6), (21, 7), (21, 8), (21, 9), (22, 4), (22, 5), (22, 6), (22, 7), (22, 8), (22, 9), (23, 4), (23, 5), (23, 6), (23, 7), (23, 8), (23, 9), (24, 4), (24, 5), (24, 6), (24, 7), (24, 8), (24, 9), (25, 4), (25, 5), (25, 6), (25, 7), (25, 8), (25, 9)], [(16, 12), (16, 13), (16, 14), (16, 15), (17, 12), (17, 13), (17, 14), (17, 15), (18, 12), (18, 13), (18, 14), (18, 15), (18, 16), (18, 17), (19, 12), (19, 13), (19, 14), (19, 15), (19, 16), (19, 17), (20, 10), (20, 11), (20, 12), (20, 13), (20, 14), (20, 15), (20, 16), (20, 17), (21, 10), (21, 11), (21, 12), (21, 13), (21, 14), (21, 15), (21, 16), (21, 17), (22, 10), (22, 11), (22, 12), (22, 13), (22, 14), (22, 15), (23, 10), (23, 11), (23, 12), (23, 13), (23, 14), (23, 15), (24, 12), (24, 13), (24, 14), (24, 15), (25, 12), (25, 13), (25, 14), (25, 15)], [(0, 2), (0, 3), (0, 4), (0, 5), (0, 6), (0, 7), (1, 2), (1, 3), (1, 4), (1, 5), (1, 6), (1, 7), (2, 2), (2, 3), (2, 4), (2, 5), (2, 6), (2, 7), (3, 2), (3, 3), (3, 4), (3, 5), (3, 6), (3, 7), (4, 0), (4, 1), (4, 2), (4, 3), (4, 4), (4, 5), (5, 0), (5, 1), (5, 2), (5, 3), (5, 4), (5, 5), (6, 0), (6, 1), (6, 2), (6, 3), (6, 4), (6, 5), (7, 0), (7, 1), (7, 2), (7, 3), (7, 4), (7, 5), (8, 0), (8, 1), (8, 2), (8, 3), (9, 0), (9, 1), (9, 2), (9, 3)], [(8, 12), (8, 13), (8, 14), (8, 15), (9, 12), (9, 13), (9, 14), (9, 15), (10, 10), (10, 11), (10, 12), (10, 13), (10, 14), (10, 15), (10, 16), (10, 17), (10, 18), (10, 19), (11, 10), (11, 11), (11, 12), (11, 13), (11, 14), (11, 15), (11, 16), (11, 17), (11, 18), (11, 19), (12, 10), (12, 11), (12, 12), (12, 13), (12, 14), (12, 15), (12, 16), (12, 17), (12, 18), (12, 19), (13, 10), (13, 11), (13, 12), (13, 13), (13, 14), (13, 15), (13, 16), (13, 17), (13, 18), (13, 19), (14, 12), (14, 13), (14, 14), (14, 15), (15, 12), (15, 13), (15, 14), (15, 15)], [(8, 4), (8, 5), (8, 6), (8, 7), (9, 4), (9, 5), (9, 6), (9, 7), (10, 0), (10, 1), (10, 2), (10, 3), (10, 4), (10, 5), (10, 6), (10, 7), (10, 8), (10, 9), (11, 0), (11, 1), (11, 2), (11, 3), (11, 4), (11, 5), (11, 6), (11, 7), (11, 8), (11, 9), (12, 0), (12, 1), (12, 2), (12, 3), (12, 4), (12, 5), (12, 6), (12, 7), (12, 8), (12, 9), (13, 0), (13, 1), (13, 2), (13, 3), (13, 4), (13, 5), (13, 6), (13, 7), (13, 8), (13, 9), (14, 6), (14, 7), (14, 8), (14, 9), (15, 6), (15, 7), (15, 8), (15, 9)], [(0, 8), (0, 9), (0, 10), (0, 11), (0, 12), (0, 13), (1, 8), (1, 9), (1, 10), (1, 11), (1, 12), (1, 13), (2, 8), (2, 9), (2, 10), (2, 11), (2, 12), (2, 13), (3, 8), (3, 9), (3, 10), (3, 11), (3, 12), (3, 13), (4, 6), (4, 7), (4, 8), (4, 9), (4, 10), (4, 11), (5, 6), (5, 7), (5, 8), (5, 9), (5, 10), (5, 11), (6, 6), (6, 7), (6, 8), (6, 9), (6, 10), (6, 11), (7, 6), (7, 7), (7, 8), (7, 9), (7, 10), (7, 11), (8, 8), (8, 9), (8, 10), (8, 11), (9, 8), (9, 9), (9, 10), (9, 11)], [(12, 22), (12, 23), (12, 24), (12, 25), (13, 22), (13, 23), (13, 24), (13, 25), (14, 16), (14, 17), (14, 18), (14, 19), (14, 20), (14, 21), (14, 22), (14, 23), (14, 24), (14, 25), (15, 16), (15, 17), (15, 18), (15, 19), (15, 20), (15, 21), (15, 22), (15, 23), (15, 24), (15, 25), (16, 16), (16, 17), (16, 18), (16, 19), (16, 20), (16, 21), (16, 22), (16, 23), (16, 24), (16, 25), (17, 16), (17, 17), (17, 18), (17, 19), (17, 20), (17, 21), (17, 22), (17, 23), (17, 24), (17, 25), (18, 22), (18, 23), (18, 24), (18, 25), (19, 22), (19, 23), (19, 24), (19, 25)], [(0, 16), (0, 17), (0, 18), (0, 19), (0, 20), (0, 21), (1, 16), (1, 17), (1, 18), (1, 19), (1, 20), (1, 21), (2, 14), (2, 15), (2, 16), (2, 17), (2, 18), (2, 19), (2, 20), (2, 21), (3, 14), (3, 15), (3, 16), (3, 17), (3, 18), (3, 19), (3, 20), (3, 21), (4, 12), (4, 13), (4, 14), (4, 15), (4, 16), (4, 17), (4, 18), (4, 19), (5, 12), (5, 13), (5, 14), (5, 15), (5, 16), (5, 17), (5, 18), (5, 19), (6, 12), (6, 13), (6, 14), (6, 15), (6, 16), (6, 17), (7, 12), (7, 13), (7, 14), (7, 15), (7, 16), (7, 17)], [(14, 2), (14, 3), (14, 4), (14, 5), (15, 2), (15, 3), (15, 4), (15, 5), (16, 2), (16, 3), (16, 4), (16, 5), (17, 2), (17, 3), (17, 4), (17, 5), (18, 0), (18, 1), (18, 2), (18, 3), (18, 4), (18, 5), (19, 0), (19, 1), (19, 2), (19, 3), (19, 4), (19, 5), (20, 0), (20, 1), (20, 2), (20, 3), (20, 4), (20, 5), (21, 0), (21, 1), (21, 2), (21, 3), (21, 4), (21, 5), (22, 0), (22, 1), (22, 2), (22, 3), (23, 0), (23, 1), (23, 2), (23, 3), (24, 0), (24, 1), (24, 2), (24, 3), (25, 0), (25, 1), (25, 2), (25, 3)], [(2, 22), (2, 23), (2, 24), (2, 25), (3, 22), (3, 23), (3, 24), (3, 25), (4, 20), (4, 21), (4, 22), (4, 23), (4, 24), (4, 25), (5, 20), (5, 21), (5, 22), (5, 23), (5, 24), (5, 25), (6, 18), (6, 19), (6, 20), (6, 21), (6, 22), (6, 23), (6, 24), (6, 25), (7, 18), (7, 19), (7, 20), (7, 21), (7, 22), (7, 23), (7, 24), (7, 25), (8, 18), (8, 19), (8, 20), (8, 21), (8, 22), (8, 23), (9, 18), (9, 19), (9, 20), (9, 21), (9, 22), (9, 23), (10, 20), (10, 21), (10, 22), (10, 23), (11, 20), (11, 21), (11, 22), (11, 23)]]\n"
     ]
    }
   ],
   "source": [
    "# get selected rows\n",
    "M_tiles_sel = M_tiles[sel_mask, :]\n",
    "M_tiles_sel = [ convert_idx2coords1(lst,bs=bs_fine) for lst in M_tiles_sel]\n",
    "print(M_tiles_sel)"
   ]
  },
  {
   "cell_type": "code",
   "execution_count": 458,
   "id": "a62df742",
   "metadata": {},
   "outputs": [],
   "source": [
    "import matplotlib.pyplot as plt\n",
    "import matplotlib.patches as patches\n",
    "from matplotlib.collections import PatchCollection\n",
    "from matplotlib import cm"
   ]
  },
  {
   "cell_type": "code",
   "execution_count": 459,
   "id": "edc1d116",
   "metadata": {},
   "outputs": [
    {
     "name": "stdout",
     "output_type": "stream",
     "text": [
      "20\n"
     ]
    },
    {
     "data": {
      "image/png": "[encoded data removed]",
      "text/plain": [
       "<Figure size 1440x1440 with 1 Axes>"
      ]
     },
     "metadata": {
      "needs_background": "light"
     },
     "output_type": "display_data"
    }
   ],
   "source": [
    "# Create figure and axes\n",
    "mycolors= cm.get_cmap('tab20').colors\n",
    "print(len(mycolors))\n",
    "fig, ax = plt.subplots(figsize=(20, 20))\n",
    "plt.xlim([0, 35])\n",
    "plt.ylim([0, 35])\n",
    "\n",
    "rect_lst = []\n",
    "for i, plan_lst in enumerate(M_tiles_sel):\n",
    "    for coords in plan_lst:\n",
    "        # coords = coords[::-1]\n",
    "        rect = patches.Rectangle(coords, 0.8, 0.8, color=mycolors[i])\n",
    "        ax.add_artist(rect)\n",
    "        rect_lst.append(rect)\n",
    "# plot all rect\n",
    "ax.add_collection(PatchCollection(rect_lst))\n",
    "ax.set_aspect('equal')\n",
    "plt.axis('off')\n",
    "plt.show()"
   ]
  },
  {
   "cell_type": "code",
   "execution_count": 460,
   "id": "d9620479",
   "metadata": {},
   "outputs": [
    {
     "name": "stdout",
     "output_type": "stream",
     "text": [
      "[[  0 117 129 130 131 140 141]\n",
      " [  1  99 100 111 123 134 135]\n",
      " [  2 102 114 115 125 126 138]\n",
      " [  3   1   2  13  24  25  36]\n",
      " [  4  54  65  66  67  68  78]\n",
      " [  5  50  60  61  62  63  75]\n",
      " [  6   4   5  16  27  28  40]\n",
      " [  7  83  92  93  94  95 107]\n",
      " [  8   8   9  19  20  30  31]\n",
      " [  9  85  97 108 109 120 132]\n",
      " [ 10  23  34  35  45  46  58]]\n",
      "[[(9, 9), (10, 9), (10, 10), (10, 11), (11, 8), (11, 9)], [(8, 3), (8, 4), (9, 3), (10, 3), (11, 2), (11, 3)], [(8, 6), (9, 6), (9, 7), (10, 5), (10, 6), (11, 6)], [(0, 1), (0, 2), (1, 1), (2, 0), (2, 1), (3, 0)], [(4, 6), (5, 5), (5, 6), (5, 7), (5, 8), (6, 6)], [(4, 2), (5, 0), (5, 1), (5, 2), (5, 3), (6, 3)], [(0, 4), (0, 5), (1, 4), (2, 3), (2, 4), (3, 4)], [(6, 11), (7, 8), (7, 9), (7, 10), (7, 11), (8, 11)], [(0, 8), (0, 9), (1, 7), (1, 8), (2, 6), (2, 7)], [(7, 1), (8, 1), (9, 0), (9, 1), (10, 0), (11, 0)], [(1, 11), (2, 10), (2, 11), (3, 9), (3, 10), (4, 10)]]\n"
     ]
    }
   ],
   "source": [
    "def convert_idx2coords1(ll, bs): # for coarse network\n",
    "    r,c = bs\n",
    "    return_lst = []\n",
    "    for lst in ll:\n",
    "        return_lst.append( [ (int(item/c), item%c) for item in lst[1:]])\n",
    "    return return_lst\n",
    "# get selected rows\n",
    "ap = np.array(all_positions)\n",
    "m_tiles_sel = ap[sel_mask,:]\n",
    "print(m_tiles_sel)\n",
    "m_tiles_sel = convert_idx2coords1(m_tiles_sel, bs)\n",
    "print(m_tiles_sel)"
   ]
  },
  {
   "cell_type": "code",
   "execution_count": 462,
   "id": "6ece45c3",
   "metadata": {},
   "outputs": [
    {
     "name": "stdout",
     "output_type": "stream",
     "text": [
      "20\n"
     ]
    },
    {
     "data": {
      "image/png": "[encoded data removed]",
      "text/plain": [
       "<Figure size 1440x1440 with 1 Axes>"
      ]
     },
     "metadata": {
      "needs_background": "light"
     },
     "output_type": "display_data"
    }
   ],
   "source": [
    "# Create figure and axes\n",
    "mycolors= cm.get_cmap('tab20').colors\n",
    "print(len(mycolors))\n",
    "fig, ax = plt.subplots(figsize=(20, 20))\n",
    "plt.xlim([0, 20])\n",
    "plt.ylim([0, 20])\n",
    "\n",
    "rect_lst = []\n",
    "for i, plan_lst in enumerate(m_tiles_sel):\n",
    "    for coords in plan_lst:\n",
    "        # coords = coords[::-1]\n",
    "        rect = patches.Rectangle(coords, 1, 1, color=mycolors[i])\n",
    "        ax.add_artist(rect)\n",
    "        rect_lst.append(rect)\n",
    "# plot all rect\n",
    "ax.add_collection(PatchCollection(rect_lst))\n",
    "ax.set_aspect('equal')\n",
    "major_ticks = np.arange(0, 15, 1)\n",
    "ax.set_xticks(major_ticks)\n",
    "ax.set_yticks(major_ticks)\n",
    "# plt.axis('off')\n",
    "plt.grid()\n",
    "plt.show()"
   ]
  },
  {
   "cell_type": "code",
   "execution_count": null,
   "id": "d9824fc4",
   "metadata": {},
   "outputs": [],
   "source": []
  },
  {
   "cell_type": "code",
   "execution_count": null,
   "id": "19bc59d2",
   "metadata": {},
   "outputs": [],
   "source": []
  },
  {
   "cell_type": "code",
   "execution_count": null,
   "id": "2a9ac614",
   "metadata": {},
   "outputs": [],
   "source": []
  },
  {
   "cell_type": "code",
   "execution_count": null,
   "id": "78e1df10",
   "metadata": {},
   "outputs": [],
   "source": []
  },
  {
   "cell_type": "code",
   "execution_count": null,
   "id": "e69a421a",
   "metadata": {},
   "outputs": [],
   "source": []
  },
  {
   "cell_type": "code",
   "execution_count": null,
   "id": "9a10e11e",
   "metadata": {},
   "outputs": [],
   "source": []
  },
  {
   "cell_type": "code",
   "execution_count": null,
   "id": "b256a162",
   "metadata": {},
   "outputs": [],
   "source": []
  },
  {
   "cell_type": "code",
   "execution_count": null,
   "id": "cf9ae6ac",
   "metadata": {},
   "outputs": [],
   "source": []
  },
  {
   "cell_type": "code",
   "execution_count": null,
   "id": "4c895978",
   "metadata": {},
   "outputs": [],
   "source": []
  },
  {
   "cell_type": "code",
   "execution_count": null,
   "id": "19e35440",
   "metadata": {},
   "outputs": [],
   "source": []
  },
  {
   "cell_type": "code",
   "execution_count": null,
   "id": "1ae2f3da",
   "metadata": {},
   "outputs": [],
   "source": []
  },
  {
   "cell_type": "code",
   "execution_count": null,
   "id": "d4df08c1",
   "metadata": {},
   "outputs": [],
   "source": []
  },
  {
   "cell_type": "code",
   "execution_count": null,
   "id": "7fdfb650",
   "metadata": {},
   "outputs": [],
   "source": []
  },
  {
   "cell_type": "code",
   "execution_count": null,
   "id": "7fea6d6c",
   "metadata": {},
   "outputs": [],
   "source": []
  },
  {
   "cell_type": "code",
   "execution_count": null,
   "id": "11278069",
   "metadata": {},
   "outputs": [],
   "source": []
  },
  {
   "cell_type": "code",
   "execution_count": null,
   "id": "dbd46e8e",
   "metadata": {},
   "outputs": [],
   "source": []
  },
  {
   "cell_type": "code",
   "execution_count": null,
   "id": "fcf47070",
   "metadata": {},
   "outputs": [],
   "source": []
  },
  {
   "cell_type": "code",
   "execution_count": null,
   "id": "f17faad1",
   "metadata": {},
   "outputs": [],
   "source": []
  }
 ],
 "metadata": {
  "kernelspec": {
   "display_name": "Python 3",
   "language": "python",
   "name": "python3"
  },
  "language_info": {
   "codemirror_mode": {
    "name": "ipython",
    "version": 3
   },
   "file_extension": ".py",
   "mimetype": "text/x-python",
   "name": "python",
   "nbconvert_exporter": "python",
   "pygments_lexer": "ipython3",
   "version": "3.8.8"
  }
 },
 "nbformat": 4,
 "nbformat_minor": 5
}
