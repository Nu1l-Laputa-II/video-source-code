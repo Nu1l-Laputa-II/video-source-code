{
 "cells": [
  {
   "cell_type": "markdown",
   "id": "54be1b3d-5da6-40b1-acb1-a522f4a2fcc4",
   "metadata": {},
   "source": [
    "# 一. 乘法符号\n",
    "    1. 原始乘法运算\n",
    "    2. 包重载符号\n",
    "    3. 重载乘法符号，对应算法__mul__"
   ]
  },
  {
   "cell_type": "code",
   "execution_count": 2,
   "id": "255aee66-b60f-4fa6-8ac8-1c5fad1a502b",
   "metadata": {},
   "outputs": [
    {
     "data": {
      "text/plain": [
       "56"
      ]
     },
     "execution_count": 2,
     "metadata": {},
     "output_type": "execute_result"
    }
   ],
   "source": [
    "# 基础乘法\n",
    "7 * 8"
   ]
  },
  {
   "cell_type": "code",
   "execution_count": 3,
   "id": "163b338a-ba54-49d8-ba23-54378ed4e1e3",
   "metadata": {},
   "outputs": [
    {
     "data": {
      "text/plain": [
       "8"
      ]
     },
     "execution_count": 3,
     "metadata": {},
     "output_type": "execute_result"
    }
   ],
   "source": [
    "# 基础乘方 2^3 = 8\n",
    "2**3"
   ]
  },
  {
   "cell_type": "code",
   "execution_count": 2,
   "id": "6b0e2fc0-3863-4ab2-871b-06dfa14da531",
   "metadata": {},
   "outputs": [
    {
     "name": "stdout",
     "output_type": "stream",
     "text": [
      "a: [1 2 3]\n",
      "b: [10 10 10]\n",
      "a * b = [10 20 30]\n"
     ]
    }
   ],
   "source": [
    "# numpy中的乘法\n",
    "import numpy as np\n",
    "a = np.array([1,2,3])\n",
    "b = np.array([10, 10, 10])\n",
    "print(\"a:\", a)\n",
    "print(\"b:\", b)\n",
    "print(\"a * b =\", a * b)"
   ]
  },
  {
   "cell_type": "code",
   "execution_count": 3,
   "id": "bd45a21a-0965-4adf-bfab-43ff7f4be19f",
   "metadata": {},
   "outputs": [
    {
     "name": "stdout",
     "output_type": "stream",
     "text": [
      "['T', '__abs__', '__add__', '__and__', '__array__', '__array_finalize__', '__array_function__', '__array_interface__', '__array_prepare__', '__array_priority__', '__array_struct__', '__array_ufunc__', '__array_wrap__', '__bool__', '__class__', '__complex__', '__contains__', '__copy__', '__deepcopy__', '__delattr__', '__delitem__', '__dir__', '__divmod__', '__doc__', '__eq__', '__float__', '__floordiv__', '__format__', '__ge__', '__getattribute__', '__getitem__', '__gt__', '__hash__', '__iadd__', '__iand__', '__ifloordiv__', '__ilshift__', '__imatmul__', '__imod__', '__imul__', '__index__', '__init__', '__init_subclass__', '__int__', '__invert__', '__ior__', '__ipow__', '__irshift__', '__isub__', '__iter__', '__itruediv__', '__ixor__', '__le__', '__len__', '__lshift__', '__lt__', '__matmul__', '__mod__', '__mul__', '__ne__', '__neg__', '__new__', '__or__', '__pos__', '__pow__', '__radd__', '__rand__', '__rdivmod__', '__reduce__', '__reduce_ex__', '__repr__', '__rfloordiv__', '__rlshift__', '__rmatmul__', '__rmod__', '__rmul__', '__ror__', '__rpow__', '__rrshift__', '__rshift__', '__rsub__', '__rtruediv__', '__rxor__', '__setattr__', '__setitem__', '__setstate__', '__sizeof__', '__str__', '__sub__', '__subclasshook__', '__truediv__', '__xor__', 'all', 'any', 'argmax', 'argmin', 'argpartition', 'argsort', 'astype', 'base', 'byteswap', 'choose', 'clip', 'compress', 'conj', 'conjugate', 'copy', 'ctypes', 'cumprod', 'cumsum', 'data', 'diagonal', 'dot', 'dtype', 'dump', 'dumps', 'fill', 'flags', 'flat', 'flatten', 'getfield', 'imag', 'item', 'itemset', 'itemsize', 'max', 'mean', 'min', 'nbytes', 'ndim', 'newbyteorder', 'nonzero', 'partition', 'prod', 'ptp', 'put', 'ravel', 'real', 'repeat', 'reshape', 'resize', 'round', 'searchsorted', 'setfield', 'setflags', 'shape', 'size', 'sort', 'squeeze', 'std', 'strides', 'sum', 'swapaxes', 'take', 'tobytes', 'tofile', 'tolist', 'tostring', 'trace', 'transpose', 'var', 'view']\n"
     ]
    }
   ],
   "source": [
    "# numpy array所有的方法/变量属性\n",
    "print(dir(a))"
   ]
  },
  {
   "cell_type": "code",
   "execution_count": 4,
   "id": "ab8de9d3-0301-4d77-8e2a-750555658f29",
   "metadata": {},
   "outputs": [
    {
     "name": "stdout",
     "output_type": "stream",
     "text": [
      "重载 * 符号\t: 49\n",
      "等价于    \t: 49\n"
     ]
    }
   ],
   "source": [
    "# 重载运算符号（类似于C++）\n",
    "class square:\n",
    "    def __init__(self, edge):\n",
    "        self.edge = edge\n",
    "    # 假设“*”表示两个rectangle构成的立方体体积\n",
    "    def __mul__(self, square2):\n",
    "        return self.edge * square2.edge\n",
    "\n",
    "my_num = square(7)\n",
    "# 已知正方形，求对应的立方体体积\n",
    "print(\"重载 * 符号\\t:\", my_num * my_num)\n",
    "print(\"等价于    \\t:\", my_num.__mul__(my_num))"
   ]
  },
  {
   "cell_type": "markdown",
   "id": "a3dccc88-ecc7-490b-9fe8-ea031a0734ae",
   "metadata": {},
   "source": [
    "# 二. 引入包/文件（Packages/Module）的全部内容（不推荐）\n",
    "1. ```from numpy import *```  (不推荐)"
   ]
  },
  {
   "cell_type": "code",
   "execution_count": 5,
   "id": "669beb77-f0af-4e5f-9966-625dd8988d52",
   "metadata": {},
   "outputs": [],
   "source": [
    "a = np.array([1,2,3])\n",
    "b = np.array([10, 10, 10])"
   ]
  },
  {
   "cell_type": "code",
   "execution_count": 6,
   "id": "fae87f3d-3cfb-4c5e-94fe-fceee7dcab2a",
   "metadata": {},
   "outputs": [
    {
     "name": "stdout",
     "output_type": "stream",
     "text": [
      "[[10 10 10]\n",
      " [20 20 20]\n",
      " [30 30 30]]\n",
      "60\n"
     ]
    }
   ],
   "source": [
    "# 引入一个文件\n",
    "from module_a import *  # 引入numpy中所有的方法/属性\n",
    "print(\"外积\")\n",
    "print(array_prod(a, b))  # 外积\n",
    "from module_b import *  # 引入numpy中所有的方法/属性\n",
    "print(\"内积（外积方法被覆盖）\")\n",
    "print(array_prod(a, b))  # 内积"
   ]
  },
  {
   "cell_type": "code",
   "execution_count": 7,
   "id": "da0b0f48-f0ca-445e-8222-4b048ea79de0",
   "metadata": {},
   "outputs": [
    {
     "name": "stdout",
     "output_type": "stream",
     "text": [
      "外积\n",
      "[[10 10 10]\n",
      " [20 20 20]\n",
      " [30 30 30]]\n",
      "内积（外积方法不会被覆盖）\n",
      "60\n"
     ]
    }
   ],
   "source": [
    "# 正确的使用方法\n",
    "import module_a as ma\n",
    "import module_b as mb\n",
    "print(\"外积\")\n",
    "print(ma.array_prod(a, b))  # 外积\n",
    "print(\"内积（外积方法不会被覆盖）\")\n",
    "print(mb.array_prod(a, b))  # 内积"
   ]
  },
  {
   "cell_type": "markdown",
   "id": "1fa9d2bd-5617-49b4-b60c-a53cfb4279d9",
   "metadata": {},
   "source": [
    "# 三.作为list/dictionary的迭代解构器（*/**）\n",
    "    1. 配合zip重新组合list/tuple\n",
    "    2. 作为函数(function)的动态参数传递方法\n",
    "        2.1 (*) 用作按照位置顺序的参数输入 (use list for positional arguments)\n",
    "        2.2（**）按照函数名传递参数（use dictionary for key-value arguments）\n",
    "        2.3 实际项目中的使用方法"
   ]
  },
  {
   "cell_type": "code",
   "execution_count": 16,
   "id": "52f23568-850f-4098-9ae2-e4106898ba0d",
   "metadata": {},
   "outputs": [
    {
     "name": "stdout",
     "output_type": "stream",
     "text": [
      "1 2 3\n"
     ]
    }
   ],
   "source": [
    "a = (1, 2, 3)\n",
    "b = ['a', 'b', 'c']\n",
    "print(*a)  # *的作用是按照顺序迭代数据结构（list/tuple/set/dict）"
   ]
  },
  {
   "cell_type": "code",
   "execution_count": 26,
   "id": "7bfb7b10-71b3-4bb2-ad52-32d3b91bd2e6",
   "metadata": {},
   "outputs": [
    {
     "name": "stdout",
     "output_type": "stream",
     "text": [
      "[(1, 'a'), (2, 'b'), (3, 'c')]\n"
     ]
    }
   ],
   "source": [
    "# 1. zip可以将两个同样程度的list/tuple这样的数据结构\n",
    "# 按照位置依次组合在一起（想象拉链的结合方式）\n",
    "c = list(zip(a, b))\n",
    "print(c)"
   ]
  },
  {
   "cell_type": "code",
   "execution_count": 27,
   "id": "5695dc9f-dca5-4f45-a883-2a1ff818df58",
   "metadata": {},
   "outputs": [
    {
     "name": "stdout",
     "output_type": "stream",
     "text": [
      "(1, 'a') (2, 'b') (3, 'c')\n",
      "a=(1, 2, 3); b=['a', 'b', 'c'];\n"
     ]
    }
   ],
   "source": [
    "# 任务，已知c求得a，b（逆运算）\n",
    "print(*c)\n",
    "a, b = tuple(zip(*c))\n",
    "b = list(b)\n",
    "print(\"a={}; b={};\".format(a, b))"
   ]
  },
  {
   "cell_type": "code",
   "execution_count": 28,
   "id": "6b6c135e-be4e-4a55-b407-ff0053860db2",
   "metadata": {},
   "outputs": [
    {
     "data": {
      "text/plain": [
       "6"
      ]
     },
     "execution_count": 28,
     "metadata": {},
     "output_type": "execute_result"
    }
   ],
   "source": [
    "# 2. 作为函数(function)的动态参数传递方法\n",
    "def sum_nums(a, b, c):\n",
    "    return a+b+c\n",
    "\n",
    "sum_nums(*[1,2,3])\n",
    "# 可以用作按照位置顺序的参数输入"
   ]
  },
  {
   "cell_type": "code",
   "execution_count": 35,
   "id": "764b248e-a3b6-4b88-9cd5-857c16ce96f3",
   "metadata": {},
   "outputs": [
    {
     "name": "stdout",
     "output_type": "stream",
     "text": [
      "abc\n",
      "6\n"
     ]
    }
   ],
   "source": [
    "d1 = {'a': 1,\n",
    "     'b': 2,\n",
    "     'c': 3}\n",
    "\n",
    "print(sum_nums(*d1)) # 注意，一般我们默认dict不一定保留顺序，虽然Python中key的顺序一般不会改变\n",
    "print(sum_nums(**d1))\n",
    "# 按照函数名传递参数"
   ]
  },
  {
   "cell_type": "code",
   "execution_count": 36,
   "id": "5f1164f4-195d-4e88-a98a-02a091a1a839",
   "metadata": {},
   "outputs": [
    {
     "ename": "TypeError",
     "evalue": "sum_nums() got an unexpected keyword argument 'e'",
     "output_type": "error",
     "traceback": [
      "\u001b[0;31m---------------------------------------------------------------------------\u001b[0m",
      "\u001b[0;31mTypeError\u001b[0m                                 Traceback (most recent call last)",
      "\u001b[0;32m/var/folders/71/d5xhvtkn215cb3g26qsjh5q00000gn/T/ipykernel_9530/3702652646.py\u001b[0m in \u001b[0;36m<module>\u001b[0;34m\u001b[0m\n\u001b[1;32m      1\u001b[0m \u001b[0md2\u001b[0m \u001b[0;34m=\u001b[0m \u001b[0;34m{\u001b[0m\u001b[0;34m'a'\u001b[0m\u001b[0;34m:\u001b[0m \u001b[0;36m1\u001b[0m\u001b[0;34m,\u001b[0m \u001b[0;34m'b'\u001b[0m\u001b[0;34m:\u001b[0m \u001b[0;36m2\u001b[0m\u001b[0;34m,\u001b[0m \u001b[0;34m'c'\u001b[0m\u001b[0;34m:\u001b[0m \u001b[0;36m3\u001b[0m\u001b[0;34m,\u001b[0m \u001b[0;34m'e'\u001b[0m\u001b[0;34m:\u001b[0m\u001b[0;36m100\u001b[0m\u001b[0;34m}\u001b[0m \u001b[0;31m# sum_nums中不存在的‘e’参数，报错\u001b[0m\u001b[0;34m\u001b[0m\u001b[0;34m\u001b[0m\u001b[0m\n\u001b[0;32m----> 2\u001b[0;31m \u001b[0mprint\u001b[0m\u001b[0;34m(\u001b[0m\u001b[0msum_nums\u001b[0m\u001b[0;34m(\u001b[0m\u001b[0;34m**\u001b[0m\u001b[0md2\u001b[0m\u001b[0;34m)\u001b[0m\u001b[0;34m)\u001b[0m\u001b[0;34m\u001b[0m\u001b[0;34m\u001b[0m\u001b[0m\n\u001b[0m",
      "\u001b[0;31mTypeError\u001b[0m: sum_nums() got an unexpected keyword argument 'e'"
     ]
    }
   ],
   "source": [
    "d2 = {'a': 1, 'b': 2, 'c': 3, 'e':100} # sum_nums中不存在的‘e’参数，报错\n",
    "print(sum_nums(**d2))"
   ]
  },
  {
   "cell_type": "code",
   "execution_count": 58,
   "id": "11c9f920-43a3-4de8-87ba-31ce78302a67",
   "metadata": {},
   "outputs": [],
   "source": [
    "# 函数本身可以定义数量不定的参数\n",
    "# 下面函数完成记录运算时间的任务\n",
    "import time\n",
    "def timer(my_func, *args, **kwargs):\n",
    "    t0 = time.time()\n",
    "    for i in range(int(1e6)):\n",
    "        my_func(*args, **kwargs)\n",
    "    t1 = time.time()\n",
    "    print(\"计算100万次{}函数用时为:{:.4f}秒\".format(my_func.__name__, t1-t0) )\n",
    "    \n",
    "def power_nums(a, b, c):\n",
    "    return a**b**c  # a^(b^(c))"
   ]
  },
  {
   "cell_type": "code",
   "execution_count": 59,
   "id": "a4ba2776-d3d6-4ead-9d7c-3a58c05f8175",
   "metadata": {},
   "outputs": [
    {
     "name": "stdout",
     "output_type": "stream",
     "text": [
      "计算100万次power_nums函数用时为:0.5677秒\n"
     ]
    }
   ],
   "source": [
    "timer(power_nums, **d1)\n",
    "# 这在程序中称为闭包，使用一个函数a包裹函数b，函数b完成同样的内容，而函数a在b的基础上完成额外的内容，如记录时间/写log/Flask网页后端地址导航等\n",
    "# 在Python中，“@”语法糖符号是这种闭包模式的类似的简化语法"
   ]
  },
  {
   "cell_type": "code",
   "execution_count": 61,
   "id": "ff3c0b90-10c7-4ab2-97d8-66c0ca115b9c",
   "metadata": {},
   "outputs": [
    {
     "name": "stdout",
     "output_type": "stream",
     "text": [
      "计算100万次power_nums函数用时为:0.8148秒\n"
     ]
    }
   ],
   "source": [
    "# 修时器/语法糖的用法（补充内容，本视频不要求）\n",
    "def my_decorator(my_func):\n",
    "    def timer(*args, **kwargs):\n",
    "        t0 = time.time()\n",
    "        for i in range(int(1e6)):\n",
    "            my_func(*args, **kwargs)\n",
    "        t1 = time.time()\n",
    "        print(\"计算100万次{}函数用时为:{:.4f}秒\".format(my_func.__name__, t1-t0) )\n",
    "    return timer\n",
    "\n",
    "@my_decorator\n",
    "def power_nums(a, b, c):\n",
    "    return a**b**c\n",
    "\n",
    "power_nums(**{'a': 2, 'b': 3, 'c': 5})"
   ]
  },
  {
   "cell_type": "code",
   "execution_count": null,
   "id": "d3cfc7db-d7e8-4b7c-acf3-a55a97541208",
   "metadata": {},
   "outputs": [],
   "source": [
    "# 规则：positional arguments必须在keyword argument之前\n",
    "\n"
   ]
  },
  {
   "cell_type": "code",
   "execution_count": null,
   "id": "6d93fe15-5caa-4ea1-bbab-f0c263f4ea9d",
   "metadata": {},
   "outputs": [],
   "source": [
    "# 实际项目中如何应用动态传递参数？（例子）\n",
    "# matplotlib"
   ]
  },
  {
   "cell_type": "code",
   "execution_count": null,
   "id": "8dac8dd6-4ee0-49e3-85d7-186f2fe7ff4b",
   "metadata": {},
   "outputs": [],
   "source": []
  },
  {
   "cell_type": "code",
   "execution_count": null,
   "id": "17491063-3818-4d6a-b86c-d5b4b3efa725",
   "metadata": {},
   "outputs": [],
   "source": []
  },
  {
   "cell_type": "code",
   "execution_count": null,
   "id": "34e33c7f-2731-443c-b857-30e362868886",
   "metadata": {},
   "outputs": [],
   "source": []
  },
  {
   "cell_type": "code",
   "execution_count": null,
   "id": "549dc965-31c0-424c-abd0-4e7b9de3b9d2",
   "metadata": {},
   "outputs": [],
   "source": []
  },
  {
   "cell_type": "code",
   "execution_count": null,
   "id": "34c9491f-5cb4-4669-922e-79f9f3483021",
   "metadata": {},
   "outputs": [],
   "source": []
  }
 ],
 "metadata": {
  "kernelspec": {
   "display_name": "Python 3 (ipykernel)",
   "language": "python",
   "name": "python3"
  },
  "language_info": {
   "codemirror_mode": {
    "name": "ipython",
    "version": 3
   },
   "file_extension": ".py",
   "mimetype": "text/x-python",
   "name": "python",
   "nbconvert_exporter": "python",
   "pygments_lexer": "ipython3",
   "version": "3.8.2"
  }
 },
 "nbformat": 4,
 "nbformat_minor": 5
}
