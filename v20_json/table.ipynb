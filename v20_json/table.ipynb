{
 "cells": [
  {
   "cell_type": "markdown",
   "id": "81c7b690-5935-401f-9c01-f4e8074fd860",
   "metadata": {},
   "source": [
    "# 最简单的JSON处理\n",
    "1. 从网络端接受到JSON的字符串"
   ]
  },
  {
   "cell_type": "code",
   "execution_count": 1,
   "id": "d6356f82-afe7-4b95-833e-d7b1d3a90850",
   "metadata": {},
   "outputs": [],
   "source": [
    "import json  # python中自带的处理json数据格式的包"
   ]
  },
  {
   "cell_type": "code",
   "execution_count": 2,
   "id": "00b4bad5-f77f-4387-ae4f-2fc9c11a032a",
   "metadata": {},
   "outputs": [],
   "source": [
    "# 一个简单的JSON字符串\n",
    "# 任务：使用你的程序解析这个字符串\n",
    "x = \"\"\"\n",
    "{\n",
    "     \"firstName\": \"四 (Si)\",\n",
    "     \"lastName\": \"李 (Lee)\",\n",
    "     \"address\": {\n",
    "         \"streetAddress\": \"21 2nd Street\",\n",
    "         \"city\": \"New York\",\n",
    "         \"state\": \"NY\",\n",
    "         \"postalCode\": 10021\n",
    "     },\n",
    "     \"phoneNumbers\": [\n",
    "         \"212 555-1234\",\n",
    "         \"646 555-4567\"\n",
    "     ]\n",
    " }\n",
    "\"\"\""
   ]
  },
  {
   "cell_type": "code",
   "execution_count": 3,
   "id": "0869d935-f8af-444b-963b-84e507f33d8c",
   "metadata": {},
   "outputs": [
    {
     "name": "stdout",
     "output_type": "stream",
     "text": [
      "四 (Si)\n"
     ]
    }
   ],
   "source": [
    "# 从网络\n",
    "# text ==> parse ==> JSON object\n",
    "py_json = json.loads(x)\n",
    "\n",
    "# the result is a Python dictionary:\n",
    "print(py_json[\"firstName\"])"
   ]
  },
  {
   "cell_type": "code",
   "execution_count": 4,
   "id": "e8075571-4c06-4b73-a4df-d01191eaa0a9",
   "metadata": {},
   "outputs": [
    {
     "data": {
      "text/plain": [
       "{'firstName': '四 (Si)',\n",
       " 'lastName': '李 (Lee)',\n",
       " 'address': {'streetAddress': '21 2nd Street',\n",
       "  'city': 'New York',\n",
       "  'state': 'NY',\n",
       "  'postalCode': 10021},\n",
       " 'phoneNumbers': ['212 555-1234', '646 555-4567']}"
      ]
     },
     "metadata": {},
     "output_type": "display_data"
    }
   ],
   "source": [
    "display(py_json)"
   ]
  },
  {
   "cell_type": "code",
   "execution_count": 5,
   "id": "83410ff9-ce15-4d1c-b513-17986b70f4de",
   "metadata": {},
   "outputs": [
    {
     "name": "stdout",
     "output_type": "stream",
     "text": [
      "<class 'dict'>\n",
      "<class 'list'>\n",
      "<class 'str'>\n"
     ]
    }
   ],
   "source": [
    "# 在Python中，数据格式从字符串被解读成数据结构\n",
    "# 其中只包括：字典/表格/基本数据结构\n",
    "print(type(py_json))\n",
    "print(type(py_json[\"phoneNumbers\"]))\n",
    "print(type(py_json[\"firstName\"]))"
   ]
  },
  {
   "cell_type": "code",
   "execution_count": 6,
   "id": "c07cb86f-e58c-4c40-a150-60efc022b686",
   "metadata": {},
   "outputs": [
    {
     "name": "stdout",
     "output_type": "stream",
     "text": [
      "<class 'str'>\n"
     ]
    }
   ],
   "source": [
    "# JSON object ==> stringify ==> string\n",
    "# 将JSON转化回字符串，进而保存/传输数据\n",
    "json_str = json.dumps(py_json)\n",
    "print(type(json_str))"
   ]
  },
  {
   "cell_type": "code",
   "execution_count": 7,
   "id": "2096fca7-0ef6-45fd-9976-9cb33ec05497",
   "metadata": {},
   "outputs": [
    {
     "name": "stdout",
     "output_type": "stream",
     "text": [
      "{\"firstName\": \"\\u56db (Si)\", \"lastName\": \"\\u674e (Lee)\", \"address\": {\"streetAddress\": \"21 2nd Street\", \"city\": \"New York\", \"state\": \"NY\", \"postalCode\": 10021}, \"phoneNumbers\": [\"212 555-1234\", \"646 555-4567\"]}\n"
     ]
    }
   ],
   "source": [
    "print(json_str)\n",
    "# 区分ASCII/unicode/UTF-code\n",
    "# 这里的中文被转化为对应Unicode代码"
   ]
  },
  {
   "cell_type": "code",
   "execution_count": 8,
   "id": "8cf0555b-40e2-4820-a064-2f2f263e9a88",
   "metadata": {},
   "outputs": [],
   "source": [
    "with open('simple.json', 'w+') as f:\n",
    "    f.write(json_str)"
   ]
  },
  {
   "cell_type": "markdown",
   "id": "59327425-4ca1-4daa-a204-6bc37d93088f",
   "metadata": {},
   "source": [
    "添加一个关于json资料的hints"
   ]
  },
  {
   "cell_type": "markdown",
   "id": "71435059-e58a-4b81-b2d8-8cfc034b0d07",
   "metadata": {
    "tags": []
   },
   "source": [
    "# 一个真实的网络API使用JSON的例子"
   ]
  },
  {
   "cell_type": "code",
   "execution_count": 9,
   "id": "8a08214a-5de0-4624-81c5-6e9c0afbb74e",
   "metadata": {},
   "outputs": [],
   "source": [
    "from datetime import datetime\n",
    "from datetime import date"
   ]
  },
  {
   "cell_type": "code",
   "execution_count": 10,
   "id": "369a1628-358f-4529-9c51-1fc8a1644c2e",
   "metadata": {},
   "outputs": [
    {
     "name": "stdout",
     "output_type": "stream",
     "text": [
      "{\"chart\":{\"result\":[{\"meta\":{\"currency\":\"USD\",\"symbol\":\"AAPL\",\"exchangeName\":\"NMS\",\"instrumentType\":\"EQUITY\",\"firstTradeDate\":345479400,\"regularMarketTime\":1649267210,\"gmtoffset\":-14400,\"timezone\":\"EDT\",\"exchangeTimezoneName\":\"America/New_York\",\"regularMarketPrice\":172.14,\"chartPreviousClose\":177.77,\"priceHint\":2,\"currentTradingPeriod\":{\"pre\":{\"timezone\":\"EDT\",\"start\":1649232000,\"end\":1649251800,\"gmtoffset\":-14400},\"regular\":{\"timezone\":\"EDT\",\"start\":1649251800,\"end\":1649275200,\"gmtoffset\":-14400},\"post\":{\"timezone\":\"EDT\",\"start\":1649275200,\"end\":1649289600,\"gmtoffset\":-14400}},\"dataGranularity\":\"1d\",\"range\":\"5d\",\"validRanges\":[\"1d\",\"5d\",\"1mo\",\"3mo\",\"6mo\",\"1y\",\"2y\",\"5y\",\"10y\",\"ytd\",\"max\"]},\"timestamp\":[1648733400,1648819800,1649079000,1649165400,1649267210],\"indicators\":{\"quote\":[{\"open\":[177.83999633789062,174.02999877929688,174.57000732421875,177.5,172.36000061035156],\"high\":[178.02999877929688,174.8800048828125,178.49000549316406,178.3000030517578,173.24000549316406],\"close\":[174.61000061035156,174.30999755859375,178.44000244140625,175.05999755859375,172.13999938964844],\"low\":[174.39999389648438,171.94000244140625,174.44000244140625,174.4199981689453,170.1300048828125],\"volume\":[103049300,78699800,76468400,73311300,48978885]}],\"adjclose\":[{\"adjclose\":[174.61000061035156,174.30999755859375,178.44000244140625,175.05999755859375,172.13999938964844]}]}}],\"error\":null}}\n"
     ]
    }
   ],
   "source": [
    "# 参考: https://www.yahoofinanceapi.com/tutorial\n",
    "# https://www.yahoofinanceapi.com/（网页中尝试API）\n",
    "import requests\n",
    "\n",
    "# 雅虎API询问最近五个交易日的股价\n",
    "url = \"https://yfapi.net/v8/finance/chart/AAPL\"\n",
    "\n",
    "\n",
    "# 查询的股票(APPL: 苹果;)\n",
    "# (注意：我们询问的内容本身就是JSON的数据格式)\n",
    "querystring = {\"symbols\":\"AAPL\",\n",
    "               \"interval\": \"1d\", # 数据间隔1天\n",
    "               \"range\": \"5d\"  # 最近五天的数据\n",
    "              }\n",
    "\n",
    "# 我的免费api key (也是JSON数据格式)\n",
    "# 你可以申请自己的免费api\n",
    "headers = {'x-api-key': \"o42FRwhDu35ksbeuyuDpo3xCIJ7j5QaYamMjP778\"}\n",
    "\n",
    "response = requests.request(\"GET\", url, headers=headers, params=querystring)\n",
    "\n",
    "print(response.text)"
   ]
  },
  {
   "cell_type": "code",
   "execution_count": 11,
   "id": "6947f28b-8437-40c1-9b88-c65ef0fb5556",
   "metadata": {},
   "outputs": [],
   "source": [
    "# # 保存得到的JSON数据\n",
    "# with open('appl.json', 'w+') as f:\n",
    "#     f.write(response.text)"
   ]
  },
  {
   "cell_type": "markdown",
   "id": "6aa69dfd-cb8d-41e8-b577-e7e9ee9ce14f",
   "metadata": {},
   "source": [
    "所有的空格都被省略了，可以打开JSON网站 \n",
    "\n",
    "验证JSON 或者 增加tab缩紧让人可以理解格式(prettyprint)"
   ]
  },
  {
   "cell_type": "code",
   "execution_count": 12,
   "id": "feb309bd-1a1c-45f5-a34d-b032b9d9c4c1",
   "metadata": {
    "tags": []
   },
   "outputs": [
    {
     "name": "stdout",
     "output_type": "stream",
     "text": [
      "{\n",
      "    \"chart\": {\n",
      "        \"result\": [\n",
      "            {\n",
      "                \"meta\": {\n",
      "                    \"currency\": \"USD\",\n",
      "                    \"symbol\": \"AAPL\",\n",
      "                    \"exchangeName\": \"NMS\",\n",
      "                    \"instrumentType\": \"EQUITY\",\n",
      "                    \"firstTradeDate\": 345479400,\n",
      "                    \"regularMarketTime\": 1649267210,\n",
      "                    \"gmtoffset\": -14400,\n",
      "                    \"timezone\": \"EDT\",\n",
      "                    \"exchangeTimezoneName\": \"America/New_York\",\n",
      "                    \"regularMarketPrice\": 172.14,\n",
      "                    \"chartPreviousClose\": 177.77,\n",
      "                    \"priceHint\": 2,\n",
      "                    \"currentTradingPeriod\": {\n",
      "                        \"pre\": {\n",
      "                            \"timezone\": \"EDT\",\n",
      "                            \"start\": 1649232000,\n",
      "                            \"end\": 1649251800,\n",
      "                            \"gmtoffset\": -14400\n",
      "                        },\n",
      "                        \"regular\": {\n",
      "                            \"timezone\": \"EDT\",\n",
      "                            \"start\": 1649251800,\n",
      "                            \"end\": 1649275200,\n",
      "                            \"gmtoffset\": -14400\n",
      "                        },\n",
      "                        \"post\": {\n",
      "                            \"timezone\": \"EDT\",\n",
      "                            \"start\": 1649275200,\n",
      "                            \"end\": 1649289600,\n",
      "                            \"gmtoffset\": -14400\n",
      "                        }\n",
      "                    },\n",
      "                    \"dataGranularity\": \"1d\",\n",
      "                    \"range\": \"5d\",\n",
      "                    \"validRanges\": [\n",
      "                        \"1d\",\n",
      "                        \"5d\",\n",
      "                        \"1mo\",\n",
      "                        \"3mo\",\n",
      "                        \"6mo\",\n",
      "                        \"1y\",\n",
      "                        \"2y\",\n",
      "                        \"5y\",\n",
      "                        \"10y\",\n",
      "                        \"ytd\",\n",
      "                        \"max\"\n",
      "                    ]\n",
      "                },\n",
      "                \"timestamp\": [\n",
      "                    1648733400,\n",
      "                    1648819800,\n",
      "                    1649079000,\n",
      "                    1649165400,\n",
      "                    1649267210\n",
      "                ],\n",
      "                \"indicators\": {\n",
      "                    \"quote\": [\n",
      "                        {\n",
      "                            \"open\": [\n",
      "                                177.83999633789062,\n",
      "                                174.02999877929688,\n",
      "                                174.57000732421875,\n",
      "                                177.5,\n",
      "                                172.36000061035156\n",
      "                            ],\n",
      "                            \"high\": [\n",
      "                                178.02999877929688,\n",
      "                                174.8800048828125,\n",
      "                                178.49000549316406,\n",
      "                                178.3000030517578,\n",
      "                                173.24000549316406\n",
      "                            ],\n",
      "                            \"close\": [\n",
      "                                174.61000061035156,\n",
      "                                174.30999755859375,\n",
      "                                178.44000244140625,\n",
      "                                175.05999755859375,\n",
      "                                172.13999938964844\n",
      "                            ],\n",
      "                            \"low\": [\n",
      "                                174.39999389648438,\n",
      "                                171.94000244140625,\n",
      "                                174.44000244140625,\n",
      "                                174.4199981689453,\n",
      "                                170.1300048828125\n",
      "                            ],\n",
      "                            \"volume\": [\n",
      "                                103049300,\n",
      "                                78699800,\n",
      "                                76468400,\n",
      "                                73311300,\n",
      "                                48978885\n",
      "                            ]\n",
      "                        }\n",
      "                    ],\n",
      "                    \"adjclose\": [\n",
      "                        {\n",
      "                            \"adjclose\": [\n",
      "                                174.61000061035156,\n",
      "                                174.30999755859375,\n",
      "                                178.44000244140625,\n",
      "                                175.05999755859375,\n",
      "                                172.13999938964844\n",
      "                            ]\n",
      "                        }\n",
      "                    ]\n",
      "                }\n",
      "            }\n",
      "        ],\n",
      "        \"error\": null\n",
      "    }\n",
      "}\n"
     ]
    }
   ],
   "source": [
    "parsed = json.loads(response.text)\n",
    "print(json.dumps(parsed, indent=4))"
   ]
  },
  {
   "cell_type": "code",
   "execution_count": 13,
   "id": "de684395-bd37-4422-832d-5c4f39df691e",
   "metadata": {},
   "outputs": [
    {
     "data": {
      "text/html": [
       "<div>\n",
       "<style scoped>\n",
       "    .dataframe tbody tr th:only-of-type {\n",
       "        vertical-align: middle;\n",
       "    }\n",
       "\n",
       "    .dataframe tbody tr th {\n",
       "        vertical-align: top;\n",
       "    }\n",
       "\n",
       "    .dataframe thead th {\n",
       "        text-align: right;\n",
       "    }\n",
       "</style>\n",
       "<table border=\"1\" class=\"dataframe\">\n",
       "  <thead>\n",
       "    <tr style=\"text-align: right;\">\n",
       "      <th></th>\n",
       "      <th>Open</th>\n",
       "      <th>High</th>\n",
       "      <th>Low</th>\n",
       "      <th>Close</th>\n",
       "      <th>Adj Close</th>\n",
       "      <th>Volume</th>\n",
       "    </tr>\n",
       "    <tr>\n",
       "      <th>Date</th>\n",
       "      <th></th>\n",
       "      <th></th>\n",
       "      <th></th>\n",
       "      <th></th>\n",
       "      <th></th>\n",
       "      <th></th>\n",
       "    </tr>\n",
       "  </thead>\n",
       "  <tbody>\n",
       "    <tr>\n",
       "      <th>2022-03-31</th>\n",
       "      <td>177.839996</td>\n",
       "      <td>178.029999</td>\n",
       "      <td>174.399994</td>\n",
       "      <td>174.610001</td>\n",
       "      <td>174.610001</td>\n",
       "      <td>103049300</td>\n",
       "    </tr>\n",
       "    <tr>\n",
       "      <th>2022-04-01</th>\n",
       "      <td>174.029999</td>\n",
       "      <td>174.880005</td>\n",
       "      <td>171.940002</td>\n",
       "      <td>174.309998</td>\n",
       "      <td>174.309998</td>\n",
       "      <td>78699800</td>\n",
       "    </tr>\n",
       "    <tr>\n",
       "      <th>2022-04-04</th>\n",
       "      <td>174.570007</td>\n",
       "      <td>178.490005</td>\n",
       "      <td>174.440002</td>\n",
       "      <td>178.440002</td>\n",
       "      <td>178.440002</td>\n",
       "      <td>76468400</td>\n",
       "    </tr>\n",
       "    <tr>\n",
       "      <th>2022-04-05</th>\n",
       "      <td>177.500000</td>\n",
       "      <td>178.300003</td>\n",
       "      <td>174.419998</td>\n",
       "      <td>175.059998</td>\n",
       "      <td>175.059998</td>\n",
       "      <td>73311300</td>\n",
       "    </tr>\n",
       "    <tr>\n",
       "      <th>2022-04-06</th>\n",
       "      <td>172.360001</td>\n",
       "      <td>173.240005</td>\n",
       "      <td>170.130005</td>\n",
       "      <td>172.139999</td>\n",
       "      <td>172.139999</td>\n",
       "      <td>48978885</td>\n",
       "    </tr>\n",
       "  </tbody>\n",
       "</table>\n",
       "</div>"
      ],
      "text/plain": [
       "                  Open        High         Low       Close   Adj Close  \\\n",
       "Date                                                                     \n",
       "2022-03-31  177.839996  178.029999  174.399994  174.610001  174.610001   \n",
       "2022-04-01  174.029999  174.880005  171.940002  174.309998  174.309998   \n",
       "2022-04-04  174.570007  178.490005  174.440002  178.440002  178.440002   \n",
       "2022-04-05  177.500000  178.300003  174.419998  175.059998  175.059998   \n",
       "2022-04-06  172.360001  173.240005  170.130005  172.139999  172.139999   \n",
       "\n",
       "               Volume  \n",
       "Date                   \n",
       "2022-03-31  103049300  \n",
       "2022-04-01   78699800  \n",
       "2022-04-04   76468400  \n",
       "2022-04-05   73311300  \n",
       "2022-04-06   48978885  "
      ]
     },
     "metadata": {},
     "output_type": "display_data"
    }
   ],
   "source": [
    "# 任务：将以上数据用Pandas转化为表格(这个cell只是数据处理)\n",
    "import pandas as pd\n",
    "time_ser = parsed['chart']['result'][0]['timestamp']\n",
    "cols = parsed['chart']['result'][0]['indicators']['quote'][0]\n",
    "adj_close = parsed['chart']['result'][0]['indicators']['adjclose'][0]['adjclose']\n",
    "\n",
    "appl_df = pd.DataFrame(cols)\n",
    "appl_df[\"Adj Close\"] = pd.Series(adj_close)\n",
    "appl_df['timestamp'] = time_ser\n",
    "appl_df['Date'] = pd.to_datetime(appl_df.timestamp, unit='s')\n",
    "appl_df.index = appl_df['Date'].dt.strftime('%Y-%m-%d')\n",
    "appl_df = appl_df[[\"open\", \"high\", \"low\", \"close\", \"Adj Close\", \"volume\"]]\n",
    "appl_df.columns = [\"Open\", \"High\", \"Low\", \"Close\", \"Adj Close\", \"Volume\"]\n",
    "display(appl_df)"
   ]
  },
  {
   "cell_type": "code",
   "execution_count": 14,
   "id": "206559e4-3520-43bc-804c-39fe08e16baa",
   "metadata": {},
   "outputs": [],
   "source": [
    "# # 保存数据\n",
    "# appl_df.to_csv(\"appl.csv\")"
   ]
  },
  {
   "cell_type": "markdown",
   "id": "4b032ffa-b2b8-4599-8d9d-024ad11bccbe",
   "metadata": {},
   "source": [
    "# 使用现成的包下载同样的数据"
   ]
  },
  {
   "cell_type": "code",
   "execution_count": 15,
   "id": "8f853c91-61c3-4e97-ae0c-aa8491293c14",
   "metadata": {},
   "outputs": [
    {
     "name": "stdout",
     "output_type": "stream",
     "text": [
      "[*********************100%***********************]  1 of 1 completed\n"
     ]
    }
   ],
   "source": [
    "# 当然，你也可以使用现成的包来进行运算\n",
    "# 比如：https://github.com/ranaroussi/yfinance\n",
    "# 其本质也是访问Yahoo API帮你调用数据\n",
    "# 在编程中，我们称这样的工具/结构为：wrapper\"包装\"\n",
    "import yfinance as yf\n",
    "\n",
    "data = yf.download(\"AAPL\", start=\"2022-03-31\", end=\"2022-04-07\")"
   ]
  },
  {
   "cell_type": "code",
   "execution_count": 16,
   "id": "73b361c4-9c47-40e3-9404-569589151a61",
   "metadata": {},
   "outputs": [
    {
     "data": {
      "text/html": [
       "<div>\n",
       "<style scoped>\n",
       "    .dataframe tbody tr th:only-of-type {\n",
       "        vertical-align: middle;\n",
       "    }\n",
       "\n",
       "    .dataframe tbody tr th {\n",
       "        vertical-align: top;\n",
       "    }\n",
       "\n",
       "    .dataframe thead th {\n",
       "        text-align: right;\n",
       "    }\n",
       "</style>\n",
       "<table border=\"1\" class=\"dataframe\">\n",
       "  <thead>\n",
       "    <tr style=\"text-align: right;\">\n",
       "      <th></th>\n",
       "      <th>Open</th>\n",
       "      <th>High</th>\n",
       "      <th>Low</th>\n",
       "      <th>Close</th>\n",
       "      <th>Adj Close</th>\n",
       "      <th>Volume</th>\n",
       "    </tr>\n",
       "    <tr>\n",
       "      <th>Date</th>\n",
       "      <th></th>\n",
       "      <th></th>\n",
       "      <th></th>\n",
       "      <th></th>\n",
       "      <th></th>\n",
       "      <th></th>\n",
       "    </tr>\n",
       "  </thead>\n",
       "  <tbody>\n",
       "    <tr>\n",
       "      <th>2022-03-31</th>\n",
       "      <td>177.839996</td>\n",
       "      <td>178.029999</td>\n",
       "      <td>174.399994</td>\n",
       "      <td>174.610001</td>\n",
       "      <td>174.610001</td>\n",
       "      <td>103049300</td>\n",
       "    </tr>\n",
       "    <tr>\n",
       "      <th>2022-04-01</th>\n",
       "      <td>174.029999</td>\n",
       "      <td>174.880005</td>\n",
       "      <td>171.940002</td>\n",
       "      <td>174.309998</td>\n",
       "      <td>174.309998</td>\n",
       "      <td>78699800</td>\n",
       "    </tr>\n",
       "    <tr>\n",
       "      <th>2022-04-04</th>\n",
       "      <td>174.570007</td>\n",
       "      <td>178.490005</td>\n",
       "      <td>174.440002</td>\n",
       "      <td>178.440002</td>\n",
       "      <td>178.440002</td>\n",
       "      <td>76468400</td>\n",
       "    </tr>\n",
       "    <tr>\n",
       "      <th>2022-04-05</th>\n",
       "      <td>177.500000</td>\n",
       "      <td>178.300003</td>\n",
       "      <td>174.419998</td>\n",
       "      <td>175.059998</td>\n",
       "      <td>175.059998</td>\n",
       "      <td>73311300</td>\n",
       "    </tr>\n",
       "    <tr>\n",
       "      <th>2022-04-06</th>\n",
       "      <td>172.360001</td>\n",
       "      <td>173.240005</td>\n",
       "      <td>170.130005</td>\n",
       "      <td>172.130005</td>\n",
       "      <td>172.130005</td>\n",
       "      <td>48987850</td>\n",
       "    </tr>\n",
       "  </tbody>\n",
       "</table>\n",
       "</div>"
      ],
      "text/plain": [
       "                  Open        High         Low       Close   Adj Close  \\\n",
       "Date                                                                     \n",
       "2022-03-31  177.839996  178.029999  174.399994  174.610001  174.610001   \n",
       "2022-04-01  174.029999  174.880005  171.940002  174.309998  174.309998   \n",
       "2022-04-04  174.570007  178.490005  174.440002  178.440002  178.440002   \n",
       "2022-04-05  177.500000  178.300003  174.419998  175.059998  175.059998   \n",
       "2022-04-06  172.360001  173.240005  170.130005  172.130005  172.130005   \n",
       "\n",
       "               Volume  \n",
       "Date                   \n",
       "2022-03-31  103049300  \n",
       "2022-04-01   78699800  \n",
       "2022-04-04   76468400  \n",
       "2022-04-05   73311300  \n",
       "2022-04-06   48987850  "
      ]
     },
     "metadata": {},
     "output_type": "display_data"
    }
   ],
   "source": [
    "display(data)"
   ]
  },
  {
   "cell_type": "code",
   "execution_count": null,
   "id": "d2d99c1b-6804-4df4-8764-c55bcd122395",
   "metadata": {},
   "outputs": [],
   "source": []
  }
 ],
 "metadata": {
  "kernelspec": {
   "display_name": "Python 3",
   "language": "python",
   "name": "python3"
  },
  "language_info": {
   "codemirror_mode": {
    "name": "ipython",
    "version": 3
   },
   "file_extension": ".py",
   "mimetype": "text/x-python",
   "name": "python",
   "nbconvert_exporter": "python",
   "pygments_lexer": "ipython3",
   "version": "3.8.8"
  }
 },
 "nbformat": 4,
 "nbformat_minor": 5
}
