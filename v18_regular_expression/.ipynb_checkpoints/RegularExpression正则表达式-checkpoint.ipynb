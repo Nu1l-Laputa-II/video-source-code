{
 "cells": [
  {
   "cell_type": "markdown",
   "id": "9a24dec2-5633-4988-828c-4afc62601c93",
   "metadata": {
    "tags": []
   },
   "source": [
    "# 正则表达式\n",
    "1. 任务1. 英文单词检索。在words.txt中，\n",
    "\n",
    "    1.1 寻找所有含有at的单词\n",
    "    \n",
    "    1.2 寻找以at为结尾的单词\n",
    "    \n",
    "    1.3 寻找以at为开始的单词\n",
    "    \n",
    "    1.4 寻找类似于at，att，attt...的单词\n",
    "\n",
    "    1.5 寻找含有atat的单词\n",
    "    \n",
    "    1.6 选择fat/cat; 进一步选择fat/cat/sat (展示范围符号，如\\[a-z\\])\n",
    "    \n",
    "    1.7 寻找AT或者at(包括大写和小写)\n",
    "\n",
    "2. 任务2. 电话本/邮箱格式处理/检查。在email.txt中，\n",
    "\n",
    "    2.1 选择所有邮箱\n",
    "    \n",
    "    2.2 选择所有电话号码\n",
    "    \n",
    "    2.3 将所有的邮箱与电话信息转换为统一格式\n",
    "\n",
    "3. 补充: 高级用法\n",
    "\n",
    "    3.1 group reference \\1\n",
    "    \n",
    "    3.2 Look ahead: .(?=\\[Tt\\]he); .(?!\\[Tt\\]he)\n",
    "    \n",
    "    3.3 Look behind: (?<=\\[Tt\\]he).; (?<!\\[Tt\\]he).\n",
    "\n",
    "4. 任务3. 实际应用的简单演示。\n",
    "\n",
    "    3.1 网页前端验证邮箱(JS脚本，html脚本等)\n",
    "    \n",
    "    3.2 在html_example.txt中，提取网页中的网站链接（区分不同的匹配模式:贪婪greedy vs. 懒惰lazy）(模仿爬虫，Google/Baidu网页检索的基础)\n",
    "    \n",
    "    3.3 文本处理，统计单词出现的次数(NLP自然语言处理的基础，统计单词使用概率模型)\n"
   ]
  },
  {
   "cell_type": "markdown",
   "id": "ac56c57d-6cd9-429e-a0ca-522aa5e599f4",
   "metadata": {
    "tags": []
   },
   "source": [
    "## 最核心内容\n",
    "\n",
    "[一个regular expression的交互网页：regexr.com](https://regexr.com/6hq6o)\n",
    "\n",
    "### 最核心小抄\n",
    "\n",
    "![a](regepr_cheetsheet.png)"
   ]
  },
  {
   "cell_type": "code",
   "execution_count": 8,
   "id": "59717ee2-4541-4b33-be61-5a5e61653b44",
   "metadata": {
    "tags": []
   },
   "outputs": [],
   "source": [
    "import re"
   ]
  },
  {
   "cell_type": "code",
   "execution_count": 28,
   "id": "5c9a3563-33a1-41ca-b0d0-2f8ffcdd2cae",
   "metadata": {},
   "outputs": [
    {
     "name": "stdout",
     "output_type": "stream",
     "text": [
      "\n",
      "日期, 花销 \n",
      "2022-01-01, 100\n",
      "2022-01-02, 150\n",
      "2022-01-03, 150\n",
      "\n"
     ]
    }
   ],
   "source": [
    "# 改变我的账单的日期格式: 从 2022-01-02转换为 01月02日--2022年\n",
    "# 使用back reference, 如: \\1\n",
    "my_str = u\"\"\"\n",
    "日期, 花销 \n",
    "2022-01-01, 100\n",
    "2022-01-02, 150\n",
    "2022-01-03, 150\n",
    "\"\"\"\n",
    "print(my_str)"
   ]
  },
  {
   "cell_type": "code",
   "execution_count": 30,
   "id": "6c305845-ea18-480a-9ea2-aba2975c19cb",
   "metadata": {},
   "outputs": [
    {
     "name": "stdout",
     "output_type": "stream",
     "text": [
      "\n",
      "日期, 花销 \n",
      "01月01日--2022年, 100\n",
      "01月02日--2022年, 150\n",
      "01月03日--2022年, 150\n",
      "\n"
     ]
    }
   ],
   "source": [
    "# re.sub(正则表达式, 匹配项替换的字符串，输入字符串)\n",
    "new_str = re.sub(r'([0-9]{4})-([0-9]{2})-([0-9]{2})',\n",
    "                 r'\\2月\\3日--\\1年',  # group references \"匹配项索引\"\n",
    "                 my_str)\n",
    "print(new_str)"
   ]
  },
  {
   "cell_type": "code",
   "execution_count": null,
   "id": "268bac14-050e-4822-9b31-05c60559cd8d",
   "metadata": {},
   "outputs": [],
   "source": []
  }
 ],
 "metadata": {
  "kernelspec": {
   "display_name": "Python 3 (ipykernel)",
   "language": "python",
   "name": "python3"
  },
  "language_info": {
   "codemirror_mode": {
    "name": "ipython",
    "version": 3
   },
   "file_extension": ".py",
   "mimetype": "text/x-python",
   "name": "python",
   "nbconvert_exporter": "python",
   "pygments_lexer": "ipython3",
   "version": "3.8.2"
  }
 },
 "nbformat": 4,
 "nbformat_minor": 5
}
